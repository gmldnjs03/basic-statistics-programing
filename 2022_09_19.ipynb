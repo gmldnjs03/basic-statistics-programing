{
  "nbformat": 4,
  "nbformat_minor": 0,
  "metadata": {
    "colab": {
      "private_outputs": true,
      "provenance": [],
      "collapsed_sections": [],
      "authorship_tag": "ABX9TyNcZdq7FXGZyR79yhd4fd/1",
      "include_colab_link": true
    },
    "kernelspec": {
      "name": "python3",
      "display_name": "Python 3"
    },
    "language_info": {
      "name": "python"
    }
  },
  "cells": [
    {
      "cell_type": "markdown",
      "metadata": {
        "id": "view-in-github",
        "colab_type": "text"
      },
      "source": [
        "<a href=\"https://colab.research.google.com/github/gmldnjs03/basic-statistics-programing/blob/main/2022_09_19.ipynb\" target=\"_parent\"><img src=\"https://colab.research.google.com/assets/colab-badge.svg\" alt=\"Open In Colab\"/></a>"
      ]
    },
    {
      "cell_type": "code",
      "execution_count": null,
      "metadata": {
        "id": "g8EktmigBxGS"
      },
      "outputs": [],
      "source": [
        "import numpy as np\n",
        "import matplotlib.pyplot as plt\n",
        "from scipy import io"
      ]
    },
    {
      "cell_type": "code",
      "source": [
        "input_mat = io.loadmat(\"/content/SonarAl.mat\")"
      ],
      "metadata": {
        "id": "84-9ttWYIx_Q"
      },
      "execution_count": null,
      "outputs": []
    },
    {
      "cell_type": "code",
      "source": [
        "print(input_mat)"
      ],
      "metadata": {
        "id": "DkPm0TNrJMB5"
      },
      "execution_count": null,
      "outputs": []
    },
    {
      "cell_type": "code",
      "source": [
        "print(input_mat[\"sonarAlt\"])\n",
        "print(input_mat[\"sonarAlt\"][0])\n",
        "data_sonoar= input_mat[\"sonarAlt\"][0]\n",
        "print(data_sonoar)\n",
        "print(len(data_sonoar))"
      ],
      "metadata": {
        "id": "abZwevsMJpgw"
      },
      "execution_count": null,
      "outputs": []
    },
    {
      "cell_type": "code",
      "source": [
        "def get_sonar(i):\n",
        "    \"\"\"Measure sonar.\"\"\"\n",
        "    z = input_mat['sonarAlt'][0][i]  # input_mat['sonaralt']: (1, 1501)\n",
        "    return z"
      ],
      "metadata": {
        "id": "fK8csNfeJZBg"
      },
      "execution_count": null,
      "outputs": []
    },
    {
      "cell_type": "code",
      "source": [
        "def mov_avg_filter(x_n, x_meas):\n",
        "    \"\"\"Calculate average sonar using a moving average filter (batch expression).\"\"\"\n",
        "    n = len(x_n)\n",
        "    for i in range(n-1):\n",
        "        x_n[i] = x_n[i+1]\n",
        "    x_n[n-1] = x_meas\n",
        "    x_avg = np.mean(x_n)\n",
        "    return x_avg, x_n"
      ],
      "metadata": {
        "id": "Lgoz4KZYKSdh"
      },
      "execution_count": null,
      "outputs": []
    },
    {
      "cell_type": "code",
      "source": [
        "n=10\n",
        "n1=20\n",
        "n_samples=500\n",
        "time_end=10\n"
      ],
      "metadata": {
        "id": "CoxKXnDYJmDo"
      },
      "execution_count": null,
      "outputs": []
    },
    {
      "cell_type": "code",
      "source": [
        "dt= time_end/n_samples\n",
        "time=np.arange(0,time_end,dt)\n",
        "x_meas_save=np.zeros(n_samples)\n",
        "x_avg_save=np.zeros(n_samples)\n",
        "x_meas_save_20=np.zeros(n_samples)\n",
        "x_avg_save_20=np.zeros(n_samples)"
      ],
      "metadata": {
        "id": "S-pemxQtMJxS"
      },
      "execution_count": null,
      "outputs": []
    },
    {
      "cell_type": "code",
      "source": [
        "print(time)\n",
        "print(x_meas_save)\n",
        "print(x_avg_save)"
      ],
      "metadata": {
        "id": "16k08wLJNqD_"
      },
      "execution_count": null,
      "outputs": []
    },
    {
      "cell_type": "code",
      "source": [
        "for i in range(n_samples):\n",
        "    x_meas = get_sonar(i)\n",
        "    if i == 0:\n",
        "        x_avg, x_n = x_meas, x_meas * np.ones(n1)\n",
        "        print(x_meas * np.ones(n1))\n",
        "    else:\n",
        "        x_avg, x_n = mov_avg_filter(x_n, x_meas)\n",
        "        print(x_n)\n",
        " \n",
        "    x_meas_save_20[i] = x_meas\n",
        "    x_avg_save_20[i] = x_avg"
      ],
      "metadata": {
        "id": "c7pPIV-XVA-f"
      },
      "execution_count": null,
      "outputs": []
    },
    {
      "cell_type": "code",
      "source": [
        "for i in range(n_samples):\n",
        "    x_meas = get_sonar(i)\n",
        "    if i == 0:\n",
        "        x_avg, x_n = x_meas, x_meas * np.ones(n)\n",
        "        print(x_meas * np.ones(n))\n",
        "    else:\n",
        "        x_avg, x_n = mov_avg_filter(x_n, x_meas)\n",
        "        print(x_n)\n",
        " \n",
        "    x_meas_save[i] = x_meas\n",
        "    x_avg_save[i] = x_avg"
      ],
      "metadata": {
        "id": "v1GssZvaMsSS"
      },
      "execution_count": null,
      "outputs": []
    },
    {
      "cell_type": "code",
      "source": [
        "plt.plot(time, x_meas_save, 'r*', label='Measured')\n",
        "plt.plot(time, x_avg_save, 'b-', label='Moving average 10')\n",
        "plt.plot(time, x_avg_save_20, 'g-', label='Moving average 20')\n",
        "plt.legend(loc='upper left')\n",
        "plt.title('Measured Altitudes v.s. Moving Average Filter Values')\n",
        "plt.xlabel('Time [sec]')\n",
        "plt.ylabel('Altitude [m]')\n",
        "plt.show()"
      ],
      "metadata": {
        "id": "h_zlZNYaPcTo"
      },
      "execution_count": null,
      "outputs": []
    }
  ]
}