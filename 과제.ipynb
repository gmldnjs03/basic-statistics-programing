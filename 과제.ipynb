{
  "nbformat": 4,
  "nbformat_minor": 0,
  "metadata": {
    "colab": {
      "provenance": [],
      "authorship_tag": "ABX9TyNcHWywLnUZ+EUs9VUJLBN7",
      "include_colab_link": true
    },
    "kernelspec": {
      "name": "python3",
      "display_name": "Python 3"
    },
    "language_info": {
      "name": "python"
    }
  },
  "cells": [
    {
      "cell_type": "markdown",
      "metadata": {
        "id": "view-in-github",
        "colab_type": "text"
      },
      "source": [
        "<a href=\"https://colab.research.google.com/github/gmldnjs03/basic-statistics-programing/blob/main/%EA%B3%BC%EC%A0%9C.ipynb\" target=\"_parent\"><img src=\"https://colab.research.google.com/assets/colab-badge.svg\" alt=\"Open In Colab\"/></a>"
      ]
    },
    {
      "cell_type": "code",
      "execution_count": 1,
      "metadata": {
        "id": "2b4QOj7-On-_"
      },
      "outputs": [],
      "source": [
        "import pandas as pd\n",
        "import numpy as np\n",
        "import matplotlib.pyplot as plt"
      ]
    },
    {
      "cell_type": "code",
      "source": [
        "data = pd.read_csv(\"https://raw.githubusercontent.com/jamesrobertlloyd/gp-structure-search/master/data/raw/TSDL/monthly-beer-production-in-austr.csv\",sep=',' )"
      ],
      "metadata": {
        "id": "kxuNgdpZPjkU"
      },
      "execution_count": 2,
      "outputs": []
    },
    {
      "cell_type": "code",
      "source": [
        "data.info()"
      ],
      "metadata": {
        "colab": {
          "base_uri": "https://localhost:8080/"
        },
        "id": "B12raK4oPnRP",
        "outputId": "7ab079cb-464e-412c-af94-4aba7d2c73a0"
      },
      "execution_count": 3,
      "outputs": [
        {
          "output_type": "stream",
          "name": "stdout",
          "text": [
            "<class 'pandas.core.frame.DataFrame'>\n",
            "RangeIndex: 477 entries, 0 to 476\n",
            "Data columns (total 2 columns):\n",
            " #   Column                                                                                                                                                            Non-Null Count  Dtype  \n",
            "---  ------                                                                                                                                                            --------------  -----  \n",
            " 0   Month                                                                                                                                                             477 non-null    object \n",
            " 1   Monthly beer production in Australia: megalitres. Includes ale and stout. Does not include beverages with alcohol percentage less than 1.15. Jan 1956 ? Aug 1995  476 non-null    float64\n",
            "dtypes: float64(1), object(1)\n",
            "memory usage: 7.6+ KB\n"
          ]
        }
      ]
    },
    {
      "cell_type": "code",
      "source": [
        "data.shape"
      ],
      "metadata": {
        "colab": {
          "base_uri": "https://localhost:8080/"
        },
        "id": "2NsKpvbbPs05",
        "outputId": "fabde676-eadc-4f33-ce0a-2962f8802832"
      },
      "execution_count": 4,
      "outputs": [
        {
          "output_type": "execute_result",
          "data": {
            "text/plain": [
              "(477, 2)"
            ]
          },
          "metadata": {},
          "execution_count": 4
        }
      ]
    },
    {
      "cell_type": "code",
      "source": [
        "print(data)"
      ],
      "metadata": {
        "colab": {
          "base_uri": "https://localhost:8080/"
        },
        "id": "sJpZFS18PvPF",
        "outputId": "ec9c6a2d-b7ec-4bfa-8d84-5298254e49a1"
      },
      "execution_count": 5,
      "outputs": [
        {
          "output_type": "stream",
          "name": "stdout",
          "text": [
            "                                                 Month  \\\n",
            "0                                              1956-01   \n",
            "1                                              1956-02   \n",
            "2                                              1956-03   \n",
            "3                                              1956-04   \n",
            "4                                              1956-05   \n",
            "..                                                 ...   \n",
            "472                                            1995-05   \n",
            "473                                            1995-06   \n",
            "474                                            1995-07   \n",
            "475                                            1995-08   \n",
            "476  Monthly beer production in Australia: megalitr...   \n",
            "\n",
            "     Monthly beer production in Australia: megalitres. Includes ale and stout. Does not include beverages with alcohol percentage less than 1.15. Jan 1956 ? Aug 1995  \n",
            "0                                                 93.2                                                                                                                 \n",
            "1                                                 96.0                                                                                                                 \n",
            "2                                                 95.2                                                                                                                 \n",
            "3                                                 77.1                                                                                                                 \n",
            "4                                                 70.9                                                                                                                 \n",
            "..                                                 ...                                                                                                                 \n",
            "472                                              151.0                                                                                                                 \n",
            "473                                              130.0                                                                                                                 \n",
            "474                                              119.0                                                                                                                 \n",
            "475                                              153.0                                                                                                                 \n",
            "476                                                NaN                                                                                                                 \n",
            "\n",
            "[477 rows x 2 columns]\n"
          ]
        }
      ]
    },
    {
      "cell_type": "code",
      "source": [
        "data1 = data[\"Monthly beer production in Australia: megalitres. Includes ale and stout. Does not include beverages with alcohol percentage less than 1.15. Jan 1956 ? Aug 1995\"]"
      ],
      "metadata": {
        "id": "CtEKRHvOPv5J"
      },
      "execution_count": 6,
      "outputs": []
    },
    {
      "cell_type": "code",
      "source": [
        "print(data1)"
      ],
      "metadata": {
        "colab": {
          "base_uri": "https://localhost:8080/"
        },
        "id": "E2wqIIFnP0Ia",
        "outputId": "acafba9f-7e7d-41f8-fc5f-2bdf8e4f9f1c"
      },
      "execution_count": 7,
      "outputs": [
        {
          "output_type": "stream",
          "name": "stdout",
          "text": [
            "0       93.2\n",
            "1       96.0\n",
            "2       95.2\n",
            "3       77.1\n",
            "4       70.9\n",
            "       ...  \n",
            "472    151.0\n",
            "473    130.0\n",
            "474    119.0\n",
            "475    153.0\n",
            "476      NaN\n",
            "Name: Monthly beer production in Australia: megalitres. Includes ale and stout. Does not include beverages with alcohol percentage less than 1.15. Jan 1956 ? Aug 1995, Length: 477, dtype: float64\n"
          ]
        }
      ]
    },
    {
      "cell_type": "code",
      "source": [
        "plt.title('Aust. beer data')\n",
        "plt.plot(data1)\n",
        "print(\"평균:\",np.mean(data),\", 표준편차\",np.std(data))"
      ],
      "metadata": {
        "colab": {
          "base_uri": "https://localhost:8080/",
          "height": 428
        },
        "id": "5fsr2SW0P27B",
        "outputId": "989fdc97-366f-43b5-e036-844ea6ac3205"
      },
      "execution_count": 36,
      "outputs": [
        {
          "output_type": "stream",
          "name": "stdout",
          "text": [
            "평균: Monthly beer production in Australia: megalitres. Includes ale and stout. Does not include beverages with alcohol percentage less than 1.15. Jan 1956 ? Aug 1995    136.395378\n",
            "dtype: float64 , 표준편차 Monthly beer production in Australia: megalitres. Includes ale and stout. Does not include beverages with alcohol percentage less than 1.15. Jan 1956 ? Aug 1995    33.703266\n",
            "dtype: float64\n"
          ]
        },
        {
          "output_type": "stream",
          "name": "stderr",
          "text": [
            "/usr/local/lib/python3.7/dist-packages/numpy/core/fromnumeric.py:3438: FutureWarning: Dropping of nuisance columns in DataFrame reductions (with 'numeric_only=None') is deprecated; in a future version this will raise TypeError.  Select only valid columns before calling the reduction.\n",
            "  return mean(axis=axis, dtype=dtype, out=out, **kwargs)\n",
            "/usr/local/lib/python3.7/dist-packages/numpy/core/fromnumeric.py:3579: FutureWarning: Dropping of nuisance columns in DataFrame reductions (with 'numeric_only=None') is deprecated; in a future version this will raise TypeError.  Select only valid columns before calling the reduction.\n",
            "  return std(axis=axis, dtype=dtype, out=out, ddof=ddof, **kwargs)\n"
          ]
        },
        {
          "output_type": "display_data",
          "data": {
            "text/plain": [
              "<Figure size 432x288 with 1 Axes>"
            ],
            "image/png": "[encoded data removed]"
          },
          "metadata": {
            "needs_background": "light"
          }
        }
      ]
    },
    {
      "cell_type": "code",
      "source": [
        "for i in range(0,476):\n",
        "    x_data = data1[i]   #x_data 에 data의 array를 보냄\n",
        "    print(x_data)"
      ],
      "metadata": {
        "colab": {
          "base_uri": "https://localhost:8080/"
        },
        "id": "x0HX__mIP7Tw",
        "outputId": "7a84bd02-0635-4d0a-d647-c9d60a22d9bc"
      },
      "execution_count": 22,
      "outputs": [
        {
          "output_type": "stream",
          "name": "stdout",
          "text": [
            "93.2\n",
            "96.0\n",
            "95.2\n",
            "77.1\n",
            "70.9\n",
            "64.8\n",
            "70.1\n",
            "77.3\n",
            "79.5\n",
            "100.6\n",
            "100.7\n",
            "107.1\n",
            "95.9\n",
            "82.8\n",
            "83.3\n",
            "80.0\n",
            "80.4\n",
            "67.5\n",
            "75.7\n",
            "71.1\n",
            "89.3\n",
            "101.1\n",
            "105.2\n",
            "114.1\n",
            "96.3\n",
            "84.4\n",
            "91.2\n",
            "81.9\n",
            "80.5\n",
            "70.4\n",
            "74.8\n",
            "75.9\n",
            "86.3\n",
            "98.7\n",
            "100.9\n",
            "113.8\n",
            "89.8\n",
            "84.4\n",
            "87.2\n",
            "85.6\n",
            "72.0\n",
            "69.2\n",
            "77.5\n",
            "78.1\n",
            "94.3\n",
            "97.7\n",
            "100.2\n",
            "116.4\n",
            "97.1\n",
            "93.0\n",
            "96.0\n",
            "80.5\n",
            "76.1\n",
            "69.9\n",
            "73.6\n",
            "92.6\n",
            "94.2\n",
            "93.5\n",
            "108.5\n",
            "109.4\n",
            "105.1\n",
            "92.5\n",
            "97.1\n",
            "81.4\n",
            "79.1\n",
            "72.1\n",
            "78.7\n",
            "87.1\n",
            "91.4\n",
            "109.9\n",
            "116.3\n",
            "113.0\n",
            "100.0\n",
            "84.8\n",
            "94.3\n",
            "87.1\n",
            "90.3\n",
            "72.4\n",
            "84.9\n",
            "92.7\n",
            "92.2\n",
            "114.9\n",
            "112.5\n",
            "118.3\n",
            "106.0\n",
            "91.2\n",
            "96.6\n",
            "96.3\n",
            "88.2\n",
            "70.2\n",
            "86.5\n",
            "88.2\n",
            "102.8\n",
            "119.1\n",
            "119.2\n",
            "125.1\n",
            "106.1\n",
            "102.1\n",
            "105.2\n",
            "101.0\n",
            "84.3\n",
            "87.5\n",
            "92.7\n",
            "94.4\n",
            "113.0\n",
            "113.9\n",
            "122.9\n",
            "132.7\n",
            "106.9\n",
            "96.6\n",
            "127.3\n",
            "98.2\n",
            "100.2\n",
            "89.4\n",
            "95.3\n",
            "104.2\n",
            "106.4\n",
            "116.2\n",
            "135.9\n",
            "134.0\n",
            "104.6\n",
            "107.1\n",
            "123.5\n",
            "98.8\n",
            "98.6\n",
            "90.6\n",
            "89.1\n",
            "105.2\n",
            "114.0\n",
            "122.1\n",
            "138.0\n",
            "142.2\n",
            "116.4\n",
            "112.6\n",
            "123.8\n",
            "103.6\n",
            "113.9\n",
            "98.6\n",
            "95.0\n",
            "116.0\n",
            "113.9\n",
            "127.5\n",
            "131.4\n",
            "145.9\n",
            "131.5\n",
            "131.0\n",
            "130.5\n",
            "118.9\n",
            "114.3\n",
            "85.7\n",
            "104.6\n",
            "105.1\n",
            "117.3\n",
            "142.5\n",
            "140.0\n",
            "159.8\n",
            "131.2\n",
            "125.4\n",
            "126.5\n",
            "119.4\n",
            "113.5\n",
            "98.7\n",
            "114.5\n",
            "113.8\n",
            "133.1\n",
            "143.4\n",
            "137.3\n",
            "165.2\n",
            "126.9\n",
            "124.0\n",
            "135.7\n",
            "130.0\n",
            "109.4\n",
            "117.8\n",
            "120.3\n",
            "121.0\n",
            "132.3\n",
            "142.9\n",
            "147.4\n",
            "175.9\n",
            "132.6\n",
            "123.7\n",
            "153.3\n",
            "134.0\n",
            "119.6\n",
            "116.2\n",
            "118.6\n",
            "130.7\n",
            "129.3\n",
            "144.4\n",
            "163.2\n",
            "179.4\n",
            "128.1\n",
            "138.4\n",
            "152.7\n",
            "120.0\n",
            "140.5\n",
            "116.2\n",
            "121.4\n",
            "127.8\n",
            "143.6\n",
            "157.6\n",
            "166.2\n",
            "182.3\n",
            "153.1\n",
            "147.6\n",
            "157.7\n",
            "137.2\n",
            "151.5\n",
            "98.7\n",
            "145.8\n",
            "151.7\n",
            "129.4\n",
            "174.1\n",
            "197.0\n",
            "193.9\n",
            "164.1\n",
            "142.8\n",
            "157.9\n",
            "159.2\n",
            "162.2\n",
            "123.1\n",
            "130.0\n",
            "150.1\n",
            "169.4\n",
            "179.7\n",
            "182.1\n",
            "194.3\n",
            "161.4\n",
            "169.4\n",
            "168.8\n",
            "158.1\n",
            "158.5\n",
            "135.3\n",
            "149.3\n",
            "143.4\n",
            "142.2\n",
            "188.4\n",
            "166.2\n",
            "199.2\n",
            "182.7\n",
            "145.2\n",
            "182.1\n",
            "158.7\n",
            "141.6\n",
            "132.6\n",
            "139.6\n",
            "147.0\n",
            "166.6\n",
            "157.0\n",
            "180.4\n",
            "210.2\n",
            "159.8\n",
            "157.8\n",
            "168.2\n",
            "158.4\n",
            "152.0\n",
            "142.2\n",
            "137.2\n",
            "152.6\n",
            "166.8\n",
            "165.6\n",
            "198.6\n",
            "201.5\n",
            "170.7\n",
            "164.4\n",
            "179.7\n",
            "157.0\n",
            "168.0\n",
            "139.3\n",
            "138.6\n",
            "153.4\n",
            "138.9\n",
            "172.1\n",
            "198.4\n",
            "217.8\n",
            "173.7\n",
            "153.8\n",
            "175.6\n",
            "147.1\n",
            "160.3\n",
            "135.2\n",
            "148.8\n",
            "151.0\n",
            "148.2\n",
            "182.2\n",
            "189.2\n",
            "183.1\n",
            "170.0\n",
            "158.4\n",
            "176.1\n",
            "156.2\n",
            "153.2\n",
            "117.9\n",
            "149.8\n",
            "156.6\n",
            "166.7\n",
            "156.8\n",
            "158.6\n",
            "210.8\n",
            "203.6\n",
            "175.2\n",
            "168.7\n",
            "155.9\n",
            "147.3\n",
            "137.0\n",
            "141.1\n",
            "167.4\n",
            "160.2\n",
            "191.9\n",
            "174.4\n",
            "208.2\n",
            "159.4\n",
            "161.1\n",
            "172.1\n",
            "158.4\n",
            "114.6\n",
            "159.6\n",
            "159.7\n",
            "159.4\n",
            "160.7\n",
            "165.5\n",
            "205.0\n",
            "205.2\n",
            "141.6\n",
            "148.1\n",
            "184.9\n",
            "132.5\n",
            "137.3\n",
            "135.5\n",
            "121.7\n",
            "166.1\n",
            "146.8\n",
            "162.8\n",
            "186.8\n",
            "185.5\n",
            "151.5\n",
            "158.1\n",
            "143.0\n",
            "151.2\n",
            "147.6\n",
            "130.7\n",
            "137.5\n",
            "146.1\n",
            "133.6\n",
            "167.9\n",
            "181.9\n",
            "202.0\n",
            "166.5\n",
            "151.3\n",
            "146.2\n",
            "148.3\n",
            "144.7\n",
            "123.6\n",
            "151.6\n",
            "133.9\n",
            "137.4\n",
            "181.6\n",
            "182.0\n",
            "190.0\n",
            "161.2\n",
            "155.5\n",
            "141.9\n",
            "164.6\n",
            "136.2\n",
            "126.8\n",
            "152.5\n",
            "126.6\n",
            "150.1\n",
            "186.3\n",
            "147.5\n",
            "200.4\n",
            "177.2\n",
            "127.4\n",
            "177.1\n",
            "154.4\n",
            "135.2\n",
            "126.4\n",
            "147.3\n",
            "140.6\n",
            "152.3\n",
            "151.2\n",
            "172.2\n",
            "215.3\n",
            "154.1\n",
            "159.3\n",
            "160.4\n",
            "151.9\n",
            "148.4\n",
            "139.6\n",
            "148.2\n",
            "153.5\n",
            "145.1\n",
            "183.7\n",
            "210.5\n",
            "203.3\n",
            "153.3\n",
            "144.3\n",
            "169.6\n",
            "143.7\n",
            "160.1\n",
            "135.6\n",
            "141.8\n",
            "159.9\n",
            "145.7\n",
            "183.5\n",
            "198.2\n",
            "186.8\n",
            "172.0\n",
            "150.6\n",
            "163.3\n",
            "153.7\n",
            "152.9\n",
            "135.5\n",
            "148.5\n",
            "148.4\n",
            "133.6\n",
            "194.1\n",
            "208.6\n",
            "197.3\n",
            "164.4\n",
            "148.1\n",
            "152.0\n",
            "144.1\n",
            "155.0\n",
            "124.5\n",
            "153.0\n",
            "146.0\n",
            "138.0\n",
            "190.0\n",
            "192.0\n",
            "192.0\n",
            "147.0\n",
            "133.0\n",
            "163.0\n",
            "150.0\n",
            "129.0\n",
            "131.0\n",
            "145.0\n",
            "137.0\n",
            "138.0\n",
            "168.0\n",
            "176.0\n",
            "188.0\n",
            "139.0\n",
            "143.0\n",
            "150.0\n",
            "154.0\n",
            "137.0\n",
            "129.0\n",
            "128.0\n",
            "140.0\n",
            "143.0\n",
            "151.0\n",
            "177.0\n",
            "184.0\n",
            "151.0\n",
            "134.0\n",
            "164.0\n",
            "126.0\n",
            "131.0\n",
            "125.0\n",
            "127.0\n",
            "143.0\n",
            "143.0\n",
            "160.0\n",
            "190.0\n",
            "182.0\n",
            "138.0\n",
            "136.0\n",
            "152.0\n",
            "127.0\n",
            "151.0\n",
            "130.0\n",
            "119.0\n",
            "153.0\n"
          ]
        }
      ]
    },
    {
      "cell_type": "code",
      "source": [
        "data.describe()\n"
      ],
      "metadata": {
        "colab": {
          "base_uri": "https://localhost:8080/",
          "height": 362
        },
        "id": "C2gSsDv9WkX7",
        "outputId": "684e03c0-caaf-4884-c679-d2e8231947c9"
      },
      "execution_count": 24,
      "outputs": [
        {
          "output_type": "execute_result",
          "data": {
            "text/plain": [
              "       Monthly beer production in Australia: megalitres. Includes ale and stout. Does not include beverages with alcohol percentage less than 1.15. Jan 1956 ? Aug 1995\n",
              "count                                         476.000000                                                                                                               \n",
              "mean                                          136.395378                                                                                                               \n",
              "std                                            33.738725                                                                                                               \n",
              "min                                            64.800000                                                                                                               \n",
              "25%                                           112.900000                                                                                                               \n",
              "50%                                           139.150000                                                                                                               \n",
              "75%                                           158.825000                                                                                                               \n",
              "max                                           217.800000                                                                                                               "
            ],
            "text/html": [
              "\n",
              "  <div id=\"df-1e59711c-07d2-4646-900f-5085afa34c03\">\n",
              "    <div class=\"colab-df-container\">\n",
              "      <div>\n",
              "<style scoped>\n",
              "    .dataframe tbody tr th:only-of-type {\n",
              "        vertical-align: middle;\n",
              "    }\n",
              "\n",
              "    .dataframe tbody tr th {\n",
              "        vertical-align: top;\n",
              "    }\n",
              "\n",
              "    .dataframe thead th {\n",
              "        text-align: right;\n",
              "    }\n",
              "</style>\n",
              "<table border=\"1\" class=\"dataframe\">\n",
              "  <thead>\n",
              "    <tr style=\"text-align: right;\">\n",
              "      <th></th>\n",
              "      <th>Monthly beer production in Australia: megalitres. Includes ale and stout. Does not include beverages with alcohol percentage less than 1.15. Jan 1956 ? Aug 1995</th>\n",
              "    </tr>\n",
              "  </thead>\n",
              "  <tbody>\n",
              "    <tr>\n",
              "      <th>count</th>\n",
              "      <td>476.000000</td>\n",
              "    </tr>\n",
              "    <tr>\n",
              "      <th>mean</th>\n",
              "      <td>136.395378</td>\n",
              "    </tr>\n",
              "    <tr>\n",
              "      <th>std</th>\n",
              "      <td>33.738725</td>\n",
              "    </tr>\n",
              "    <tr>\n",
              "      <th>min</th>\n",
              "      <td>64.800000</td>\n",
              "    </tr>\n",
              "    <tr>\n",
              "      <th>25%</th>\n",
              "      <td>112.900000</td>\n",
              "    </tr>\n",
              "    <tr>\n",
              "      <th>50%</th>\n",
              "      <td>139.150000</td>\n",
              "    </tr>\n",
              "    <tr>\n",
              "      <th>75%</th>\n",
              "      <td>158.825000</td>\n",
              "    </tr>\n",
              "    <tr>\n",
              "      <th>max</th>\n",
              "      <td>217.800000</td>\n",
              "    </tr>\n",
              "  </tbody>\n",
              "</table>\n",
              "</div>\n",
              "      <button class=\"colab-df-convert\" onclick=\"convertToInteractive('df-1e59711c-07d2-4646-900f-5085afa34c03')\"\n",
              "              title=\"Convert this dataframe to an interactive table.\"\n",
              "              style=\"display:none;\">\n",
              "        \n",
              "  <svg xmlns=\"http://www.w3.org/2000/svg\" height=\"24px\"viewBox=\"0 0 24 24\"\n",
              "       width=\"24px\">\n",
              "    <path d=\"M0 0h24v24H0V0z\" fill=\"none\"/>\n",
              "    <path d=\"M18.56 5.44l.94 2.06.94-2.06 2.06-.94-2.06-.94-.94-2.06-.94 2.06-2.06.94zm-11 1L8.5 8.5l.94-2.06 2.06-.94-2.06-.94L8.5 2.5l-.94 2.06-2.06.94zm10 10l.94 2.06.94-2.06 2.06-.94-2.06-.94-.94-2.06-.94 2.06-2.06.94z\"/><path d=\"M17.41 7.96l-1.37-1.37c-.4-.4-.92-.59-1.43-.59-.52 0-1.04.2-1.43.59L10.3 9.45l-7.72 7.72c-.78.78-.78 2.05 0 2.83L4 21.41c.39.39.9.59 1.41.59.51 0 1.02-.2 1.41-.59l7.78-7.78 2.81-2.81c.8-.78.8-2.07 0-2.86zM5.41 20L4 18.59l7.72-7.72 1.47 1.35L5.41 20z\"/>\n",
              "  </svg>\n",
              "      </button>\n",
              "      \n",
              "  <style>\n",
              "    .colab-df-container {\n",
              "      display:flex;\n",
              "      flex-wrap:wrap;\n",
              "      gap: 12px;\n",
              "    }\n",
              "\n",
              "    .colab-df-convert {\n",
              "      background-color: #E8F0FE;\n",
              "      border: none;\n",
              "      border-radius: 50%;\n",
              "      cursor: pointer;\n",
              "      display: none;\n",
              "      fill: #1967D2;\n",
              "      height: 32px;\n",
              "      padding: 0 0 0 0;\n",
              "      width: 32px;\n",
              "    }\n",
              "\n",
              "    .colab-df-convert:hover {\n",
              "      background-color: #E2EBFA;\n",
              "      box-shadow: 0px 1px 2px rgba(60, 64, 67, 0.3), 0px 1px 3px 1px rgba(60, 64, 67, 0.15);\n",
              "      fill: #174EA6;\n",
              "    }\n",
              "\n",
              "    [theme=dark] .colab-df-convert {\n",
              "      background-color: #3B4455;\n",
              "      fill: #D2E3FC;\n",
              "    }\n",
              "\n",
              "    [theme=dark] .colab-df-convert:hover {\n",
              "      background-color: #434B5C;\n",
              "      box-shadow: 0px 1px 3px 1px rgba(0, 0, 0, 0.15);\n",
              "      filter: drop-shadow(0px 1px 2px rgba(0, 0, 0, 0.3));\n",
              "      fill: #FFFFFF;\n",
              "    }\n",
              "  </style>\n",
              "\n",
              "      <script>\n",
              "        const buttonEl =\n",
              "          document.querySelector('#df-1e59711c-07d2-4646-900f-5085afa34c03 button.colab-df-convert');\n",
              "        buttonEl.style.display =\n",
              "          google.colab.kernel.accessAllowed ? 'block' : 'none';\n",
              "\n",
              "        async function convertToInteractive(key) {\n",
              "          const element = document.querySelector('#df-1e59711c-07d2-4646-900f-5085afa34c03');\n",
              "          const dataTable =\n",
              "            await google.colab.kernel.invokeFunction('convertToInteractive',\n",
              "                                                     [key], {});\n",
              "          if (!dataTable) return;\n",
              "\n",
              "          const docLinkHtml = 'Like what you see? Visit the ' +\n",
              "            '<a target=\"_blank\" href=https://colab.research.google.com/notebooks/data_table.ipynb>data table notebook</a>'\n",
              "            + ' to learn more about interactive tables.';\n",
              "          element.innerHTML = '';\n",
              "          dataTable['output_type'] = 'display_data';\n",
              "          await google.colab.output.renderOutput(dataTable, element);\n",
              "          const docLink = document.createElement('div');\n",
              "          docLink.innerHTML = docLinkHtml;\n",
              "          element.appendChild(docLink);\n",
              "        }\n",
              "      </script>\n",
              "    </div>\n",
              "  </div>\n",
              "  "
            ]
          },
          "metadata": {},
          "execution_count": 24
        }
      ]
    },
    {
      "cell_type": "code",
      "source": [
        "(476-1)/476\n"
      ],
      "metadata": {
        "colab": {
          "base_uri": "https://localhost:8080/"
        },
        "id": "Cfwn86D_RZOp",
        "outputId": "7d2ed237-32ec-4643-8ecd-e8ad52a98caf"
      },
      "execution_count": 26,
      "outputs": [
        {
          "output_type": "execute_result",
          "data": {
            "text/plain": [
              "0.9978991596638656"
            ]
          },
          "metadata": {},
          "execution_count": 26
        }
      ]
    },
    {
      "cell_type": "code",
      "source": [
        "1-0.9978991596638656\n"
      ],
      "metadata": {
        "colab": {
          "base_uri": "https://localhost:8080/"
        },
        "id": "IfePiKpdWGnO",
        "outputId": "c8b585c1-971d-4d7c-8f21-6e0d75271d13"
      },
      "execution_count": 30,
      "outputs": [
        {
          "output_type": "execute_result",
          "data": {
            "text/plain": [
              "0.0021008403361344463"
            ]
          },
          "metadata": {},
          "execution_count": 30
        }
      ]
    },
    {
      "cell_type": "code",
      "source": [
        "136.395378*0.9978991596638656+0.0021008403361344463*476"
      ],
      "metadata": {
        "colab": {
          "base_uri": "https://localhost:8080/"
        },
        "id": "M4REdg1DUIij",
        "outputId": "a27c161f-9f18-4fe3-dd3a-08bb54f37819"
      },
      "execution_count": 31,
      "outputs": [
        {
          "output_type": "execute_result",
          "data": {
            "text/plain": [
              "137.1088330882353"
            ]
          },
          "metadata": {},
          "execution_count": 31
        }
      ]
    },
    {
      "cell_type": "code",
      "source": [
        "pj=np.std(data)"
      ],
      "metadata": {
        "colab": {
          "base_uri": "https://localhost:8080/"
        },
        "id": "7sOy6qaO7AWB",
        "outputId": "f44aba1c-986b-4213-9e3a-022d19e0415d"
      },
      "execution_count": 34,
      "outputs": [
        {
          "output_type": "stream",
          "name": "stderr",
          "text": [
            "/usr/local/lib/python3.7/dist-packages/numpy/core/fromnumeric.py:3579: FutureWarning: Dropping of nuisance columns in DataFrame reductions (with 'numeric_only=None') is deprecated; in a future version this will raise TypeError.  Select only valid columns before calling the reduction.\n",
            "  return std(axis=axis, dtype=dtype, out=out, ddof=ddof, **kwargs)\n"
          ]
        }
      ]
    },
    {
      "cell_type": "code",
      "source": [
        "pj"
      ],
      "metadata": {
        "colab": {
          "base_uri": "https://localhost:8080/"
        },
        "id": "r1ezyD7E7MHX",
        "outputId": "cca11f50-e190-4485-b44f-62d240582380"
      },
      "execution_count": 35,
      "outputs": [
        {
          "output_type": "execute_result",
          "data": {
            "text/plain": [
              "Monthly beer production in Australia: megalitres. Includes ale and stout. Does not include beverages with alcohol percentage less than 1.15. Jan 1956 ? Aug 1995    33.703266\n",
              "dtype: float64"
            ]
          },
          "metadata": {},
          "execution_count": 35
        }
      ]
    },
    {
      "cell_type": "code",
      "source": [
        "def beer_data():\n",
        "  v=np.random.normal(0, 33.703266)\n",
        "  beer_mean=136.395378\n",
        "  beer_meas=beer_mean+v\n",
        "  return beer_meas\n"
      ],
      "metadata": {
        "id": "tElq65DE3ZIW"
      },
      "execution_count": 37,
      "outputs": []
    },
    {
      "cell_type": "code",
      "source": [],
      "metadata": {
        "id": "58wyHNsY8num"
      },
      "execution_count": null,
      "outputs": []
    },
    {
      "cell_type": "code",
      "source": [
        "def get_volt():\n",
        "    \"\"\"Measure voltage.\"\"\"\n",
        "    v = np.random.normal(0, 4)  # v: measurement noise.\n",
        "    volt_mean = 14.4            # volt_mean: mean (nominal) voltage [V].\n",
        "    volt_meas = volt_mean + v   # volt_meas: measured voltage [V] (observable).\n",
        "    return volt_meas\n",
        "def average (a, v, n):\n",
        "  a=(k-1)/k\n",
        "  v_k= a * v + (1-a) * n\n",
        "  return v_k\n",
        "time1=100\n",
        "n_save=np.zeros(time1)\n",
        "v_save=np.zeros(time1)\n",
        "time=np.zeros(time1)\n",
        "v=0\n",
        "for i in range(0,time1):\n",
        "  k=i+1\n",
        "  n=get_volt()\n",
        "  v_k=average(k,v,n)\n",
        "  n_save[i]=n\n",
        "  v_save[i]=v_k\n",
        "  time[i]=k\n",
        "  v=v_k\n",
        "  print(n_save[i])\n",
        "plt.plot(time, n_save, 'r*', label='Measured')\n",
        "plt.plot(time, v_save, 'b-', label='Average')\n",
        "plt.legend(loc='upper left')\n",
        "plt.title('Measured Voltages v.s. Average Filter Values')\n",
        "plt.xlabel('Time [sec]')\n",
        "plt.ylabel('Volt [V]')\n",
        "plt.savefig('average_filter.png')"
      ],
      "metadata": {
        "colab": {
          "base_uri": "https://localhost:8080/",
          "height": 295
        },
        "id": "q2yC4RUKVcNC",
        "outputId": "893086f7-07b4-44d2-e2ae-ebd04c3a5399"
      },
      "execution_count": 21,
      "outputs": [
        {
          "output_type": "display_data",
          "data": {
            "text/plain": [
              "<Figure size 432x288 with 1 Axes>"
            ],
            "image/png": "[encoded data removed]"
          },
          "metadata": {
            "needs_background": "light"
          }
        }
      ]
    }
  ]
}