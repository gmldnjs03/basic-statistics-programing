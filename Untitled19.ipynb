{
  "nbformat": 4,
  "nbformat_minor": 0,
  "metadata": {
    "colab": {
      "private_outputs": true,
      "provenance": [],
      "authorship_tag": "ABX9TyO3t23kPaBmbCgpl/H2/cWq",
      "include_colab_link": true
    },
    "kernelspec": {
      "name": "python3",
      "display_name": "Python 3"
    },
    "language_info": {
      "name": "python"
    }
  },
  "cells": [
    {
      "cell_type": "markdown",
      "metadata": {
        "id": "view-in-github",
        "colab_type": "text"
      },
      "source": [
        "<a href=\"https://colab.research.google.com/github/gmldnjs03/basic-statistics-programing/blob/main/Untitled19.ipynb\" target=\"_parent\"><img src=\"https://colab.research.google.com/assets/colab-badge.svg\" alt=\"Open In Colab\"/></a>"
      ]
    },
    {
      "cell_type": "code",
      "source": [
        "import math"
      ],
      "metadata": {
        "id": "0j01Mljcdg8i"
      },
      "execution_count": null,
      "outputs": []
    },
    {
      "cell_type": "code",
      "source": [],
      "metadata": {
        "id": "hxmNihI6dgsC"
      },
      "execution_count": null,
      "outputs": []
    },
    {
      "cell_type": "code",
      "execution_count": null,
      "metadata": {
        "id": "VmYYe4wkWs2c"
      },
      "outputs": [],
      "source": [
        "print(\"n을 입력하세요\")\n",
        "n=int(input())\n",
        "if n > 4:\n",
        "    print(\"다시입력하세요\")\n",
        "    n=int(input())\n",
        "    \n"
      ]
    },
    {
      "cell_type": "code",
      "source": [
        "def combination_count(n,r):\n",
        "    return math.factorial(n) // (math.factorial(n-r)*math.factorial(r))"
      ],
      "metadata": {
        "id": "svu4fFfieyUL"
      },
      "execution_count": null,
      "outputs": []
    },
    {
      "cell_type": "code",
      "source": [
        "p=combination_count(4,int(n))/(2*2*2)\n",
        "print(p)"
      ],
      "metadata": {
        "id": "EI3DrKbOeBwM"
      },
      "execution_count": null,
      "outputs": []
    },
    {
      "cell_type": "code",
      "source": [],
      "metadata": {
        "id": "sJ2M_4vLgDSy"
      },
      "execution_count": null,
      "outputs": []
    }
  ]
}