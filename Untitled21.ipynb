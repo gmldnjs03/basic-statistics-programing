{
  "nbformat": 4,
  "nbformat_minor": 0,
  "metadata": {
    "colab": {
      "private_outputs": true,
      "provenance": [],
      "authorship_tag": "ABX9TyO2wI9GTPsS9pgUl/76REUi",
      "include_colab_link": true
    },
    "kernelspec": {
      "name": "python3",
      "display_name": "Python 3"
    },
    "language_info": {
      "name": "python"
    }
  },
  "cells": [
    {
      "cell_type": "markdown",
      "metadata": {
        "id": "view-in-github",
        "colab_type": "text"
      },
      "source": [
        "<a href=\"https://colab.research.google.com/github/gmldnjs03/basic-statistics-programing/blob/main/Untitled21.ipynb\" target=\"_parent\"><img src=\"https://colab.research.google.com/assets/colab-badge.svg\" alt=\"Open In Colab\"/></a>"
      ]
    },
    {
      "cell_type": "code",
      "execution_count": null,
      "metadata": {
        "id": "ujTOwugjgtOY"
      },
      "outputs": [],
      "source": [
        "import numpy as np"
      ]
    },
    {
      "cell_type": "code",
      "source": [
        "A=np.array([[0.0,1.0,-3.0],[2.0,3.0,-1.0],[4.0,5.0,-2.0]])\n",
        "B=np.array([[-5.0],[7.0],[10.0]])"
      ],
      "metadata": {
        "id": "HMT0tlPbj6PW"
      },
      "execution_count": null,
      "outputs": []
    },
    {
      "cell_type": "code",
      "source": [
        "import copy"
      ],
      "metadata": {
        "id": "EwVfXTiNkzgX"
      },
      "execution_count": null,
      "outputs": []
    },
    {
      "cell_type": "code",
      "source": [
        "def change(inp_list,inp1,inp2):\n",
        "    tmp=copy.deepcopy(inp_list[inp1])\n",
        "    inp_list[inp1]=inp_list[inp2]\n",
        "    inp_list[inp2]=tmp\n",
        "    result=inp_list\n",
        "    return inp_list"
      ],
      "metadata": {
        "id": "EuALWXRvk3Ee"
      },
      "execution_count": null,
      "outputs": []
    },
    {
      "cell_type": "code",
      "source": [
        "def check_matrix(a,b):\n",
        "    print(a)\n",
        "    print(\"============================\")\n",
        "    print(b)"
      ],
      "metadata": {
        "id": "Nm97eCu6mK6H"
      },
      "execution_count": null,
      "outputs": []
    },
    {
      "cell_type": "code",
      "source": [
        "rows_with_nonzero=2\n",
        "a=change(A,0,rows_with_nonzero)\n",
        "b=change(B,0,rows_with_nonzero)\n",
        "check_matrix(a,b)"
      ],
      "metadata": {
        "id": "8U52xYPQlsbH"
      },
      "execution_count": null,
      "outputs": []
    },
    {
      "cell_type": "code",
      "source": [
        "def find_rows_with_nonzero(AA,r,row_index):\n",
        "    r=0\n",
        "    for c in range(len(row_index)):\n",
        "        if AA[c][r] != 0.0:\n",
        "          rows_with_nonzero=c\n",
        "          pivot_number=AA[c][r]\n",
        "          break\n",
        "    return rows_with_nonzero"
      ],
      "metadata": {
        "id": "fUvA0goAnWGo"
      },
      "execution_count": null,
      "outputs": []
    },
    {
      "cell_type": "code",
      "source": [
        "pivot_row=np.zeros(col_index)\n",
        "print(pivot_row)"
      ],
      "metadata": {
        "id": "zeGderJDr0jj"
      },
      "execution_count": null,
      "outputs": []
    },
    {
      "cell_type": "code",
      "source": [
        "pivot_row[0]=find_rows_with_nonzero(A,0,row_index)\n",
        "print(pivot_row[0])\n",
        "pivot=A[pivot_row[0]][0]\n",
        "print(pivot)"
      ],
      "metadata": {
        "id": "0fVMbT9wrbNr"
      },
      "execution_count": null,
      "outputs": []
    },
    {
      "cell_type": "code",
      "source": [
        "row_index=list(range(len(A)))\n",
        "print(row_index)\n",
        "print(len(row_index))"
      ],
      "metadata": {
        "id": "S8vUvzYIpeXR"
      },
      "execution_count": null,
      "outputs": []
    },
    {
      "cell_type": "code",
      "source": [
        "col_index=len(A[0])\n",
        "print(A[0])\n",
        "print(col_index)"
      ],
      "metadata": {
        "id": "T7hsmN-8qFYx"
      },
      "execution_count": null,
      "outputs": []
    },
    {
      "cell_type": "code",
      "source": [
        "find_rows_with_nonzero(A,0,row_index)"
      ],
      "metadata": {
        "id": "eZjr2iyYo8zq"
      },
      "execution_count": null,
      "outputs": []
    }
  ]
}