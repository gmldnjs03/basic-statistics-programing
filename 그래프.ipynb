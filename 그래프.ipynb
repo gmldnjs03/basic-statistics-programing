{
  "nbformat": 4,
  "nbformat_minor": 0,
  "metadata": {
    "colab": {
      "private_outputs": true,
      "provenance": [],
      "collapsed_sections": [],
      "authorship_tag": "ABX9TyMlsgZWoe1jb11MZoZBAMcq",
      "include_colab_link": true
    },
    "kernelspec": {
      "name": "python3",
      "display_name": "Python 3"
    },
    "language_info": {
      "name": "python"
    }
  },
  "cells": [
    {
      "cell_type": "markdown",
      "metadata": {
        "id": "view-in-github",
        "colab_type": "text"
      },
      "source": [
        "<a href=\"https://colab.research.google.com/github/gmldnjs03/basic-statistics-programing/blob/main/%EA%B7%B8%EB%9E%98%ED%94%84.ipynb\" target=\"_parent\"><img src=\"https://colab.research.google.com/assets/colab-badge.svg\" alt=\"Open In Colab\"/></a>"
      ]
    },
    {
      "cell_type": "code",
      "execution_count": null,
      "metadata": {
        "id": "UqbMeZLSV_h8"
      },
      "outputs": [],
      "source": [
        "import numpy as np\n",
        "import matplotlib.pyplot as plt\n",
        "from scipy.special import erf"
      ]
    },
    {
      "cell_type": "code",
      "source": [
        "import math"
      ],
      "metadata": {
        "id": "8HTgUXlQgr87"
      },
      "execution_count": null,
      "outputs": []
    },
    {
      "cell_type": "code",
      "source": [
        "np.random.seed(0)\n",
        "\n",
        "plt.style.use(\"default\")\n",
        "plt.rcParams[\"figure.figsize\"]=(8,4)\n",
        "plt.rcParams[\"font.size\"]=12\n",
        "plt.rcParams[\"lines.linewidth\"]=5"
      ],
      "metadata": {
        "id": "svNnTStAWxNw"
      },
      "execution_count": null,
      "outputs": []
    },
    {
      "cell_type": "code",
      "source": [
        "mu1,sigma1=10/6,math.sqrt(50/36)\n",
        "mu2,sigma2=20/6,math.sqrt(100/36)\n",
        "mu3,sigma3=40/6,math.sqrt(200/36)\n",
        "mu4,sigma4=80/6,math.sqrt(400/36)\n",
        "\n",
        "x=np.linspace(0,30,1000)\n",
        "y1=(1/np.sqrt(2*np.pi*sigma1**2))*np.exp(-(x-mu1)**2/(2*sigma1**2))\n",
        "y2=(1/np.sqrt(2*np.pi*sigma2**2))*np.exp(-(x-mu2)**2/(2*sigma2**2))\n",
        "y3=(1/np.sqrt(2*np.pi*sigma3**2))*np.exp(-(x-mu3)**2/(2*sigma3**2))\n",
        "y4=(1/np.sqrt(2*np.pi*sigma4**2))*np.exp(-(x-mu4)**2/(2*sigma4**2))\n",
        "\n",
        "plt.plot(x,y1,alpha=0.7, label=\"N=10\")\n",
        "plt.plot(x,y2,alpha=0.7, label=\"N=20\")\n",
        "plt.plot(x,y3,alpha=0.7, label=\"N=40\")\n",
        "plt.plot(x,y4,alpha=0.7, label=\"N=80\")\n",
        "\n",
        "plt.xlabel(\"x\")\n",
        "plt.ylabel(\"f(x)\")\n",
        "plt.legend(loc=\"upper right\")\n",
        "plt.show()"
      ],
      "metadata": {
        "id": "kFyOrT2TXDR7"
      },
      "execution_count": null,
      "outputs": []
    }
  ]
}