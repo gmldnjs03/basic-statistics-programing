{
  "nbformat": 4,
  "nbformat_minor": 0,
  "metadata": {
    "colab": {
      "private_outputs": true,
      "provenance": [],
      "authorship_tag": "ABX9TyPQcdLm8ddehwwD9WRIFxY5",
      "include_colab_link": true
    },
    "kernelspec": {
      "name": "python3",
      "display_name": "Python 3"
    },
    "language_info": {
      "name": "python"
    }
  },
  "cells": [
    {
      "cell_type": "markdown",
      "metadata": {
        "id": "view-in-github",
        "colab_type": "text"
      },
      "source": [
        "<a href=\"https://colab.research.google.com/github/gmldnjs03/basic-statistics-programing/blob/main/11/28.ipynb\" target=\"_parent\"><img src=\"https://colab.research.google.com/assets/colab-badge.svg\" alt=\"Open In Colab\"/></a>"
      ]
    },
    {
      "cell_type": "code",
      "execution_count": null,
      "metadata": {
        "id": "ya6cg3a0lL80"
      },
      "outputs": [],
      "source": [
        "import numpy as np"
      ]
    },
    {
      "cell_type": "code",
      "source": [
        "x=np.arange(1,7).reshape(2,3)\n",
        "y=np.array([[6,23],[-1,7],[8,9]])"
      ],
      "metadata": {
        "id": "fVvZcOgslODJ"
      },
      "execution_count": null,
      "outputs": []
    },
    {
      "cell_type": "code",
      "source": [
        "B=np.dot(x,y)\n",
        "print(B)"
      ],
      "metadata": {
        "id": "zTImhvCBlosz"
      },
      "execution_count": null,
      "outputs": []
    },
    {
      "cell_type": "code",
      "source": [
        "def check_dot_matrix(xx,yy):\n",
        "    x_shape=np.shape(xx)\n",
        "    print(x_shape)\n",
        "    y_shape=np.shape(yy)\n",
        "    print(y_shape)\n",
        "    print(x_shape[0])\n",
        "    if x_shape[1]==y_shape[0]:\n",
        "        print(\"핼렬의 곱 가능\")\n",
        "    else:\n",
        "        print(\"행렬의 곱 불가능\")\n",
        "    "
      ],
      "metadata": {
        "id": "s9hN0YZZmZwK"
      },
      "execution_count": null,
      "outputs": []
    },
    {
      "cell_type": "code",
      "source": [
        "check_dot_matrix(x,y)"
      ],
      "metadata": {
        "id": "AQyZIbyypFtj"
      },
      "execution_count": null,
      "outputs": []
    },
    {
      "cell_type": "code",
      "source": [
        "C=np.linalg.inv(B)\n",
        "print(C)"
      ],
      "metadata": {
        "id": "4djiJu3tl_OS"
      },
      "execution_count": null,
      "outputs": []
    },
    {
      "cell_type": "code",
      "source": [
        "np.dot(B,C)"
      ],
      "metadata": {
        "id": "efm3f1lhp4DR"
      },
      "execution_count": null,
      "outputs": []
    },
    {
      "cell_type": "code",
      "source": [
        "d_array=np.array([[2,5],[1,3]])\n",
        "d_array_det=np.linalg.det(d_array)\n",
        "print(d_array_det)"
      ],
      "metadata": {
        "id": "e9ewXg3rp-PR"
      },
      "execution_count": null,
      "outputs": []
    },
    {
      "cell_type": "code",
      "source": [
        "import numpy.linalg as lin\n",
        "\n",
        "d_array=np.array([[2,5],[1,3]])\n",
        "d_array_det=lin.det(d_array)\n",
        "print(d_array_det)"
      ],
      "metadata": {
        "id": "k7JYVC2dqhtB"
      },
      "execution_count": null,
      "outputs": []
    },
    {
      "cell_type": "code",
      "source": [
        "d_array=np.array([[2,5],[1,3]])\n",
        "print(d_array)\n",
        "print(np.transpose(d_array))\n",
        "print(d_array.transpose())\n",
        "print(d_array.T)"
      ],
      "metadata": {
        "id": "HpJDan59rPMr"
      },
      "execution_count": null,
      "outputs": []
    },
    {
      "cell_type": "code",
      "source": [
        "def transpose_matrix(A):\n",
        "    a_shape=np.shape(A)\n",
        "    if a_shape[0] == a_shape[1]:\n",
        "        B=np.zeros(a_shape)\n",
        "        print(B)\n",
        "        \n",
        "        for i in range(a_shape[0]):\n",
        "            for j in range(i,a_shape[0]):\n",
        "              \n",
        "                print(i,j)\n",
        "                B[i][j]=A[j][i]\n",
        "                B[j][i]=A[i][j]\n",
        "        \n",
        "        return B\n",
        "    \n",
        "    else:    \n",
        "        print(\"정방행렬이 아님\")\n",
        "        return\n"
      ],
      "metadata": {
        "id": "T9oveKigsaWC"
      },
      "execution_count": null,
      "outputs": []
    },
    {
      "cell_type": "code",
      "source": [
        "d_array=np.array([[1,2,3],[4,5,6],[7,8,9]])\n",
        "transpose_matrix(d_array)"
      ],
      "metadata": {
        "id": "mgBe9CvxuFjS"
      },
      "execution_count": null,
      "outputs": []
    }
  ]
}