{
  "nbformat": 4,
  "nbformat_minor": 0,
  "metadata": {
    "colab": {
      "private_outputs": true,
      "provenance": [],
      "authorship_tag": "ABX9TyPjKRFhV1E2iqem4OV/zGle",
      "include_colab_link": true
    },
    "kernelspec": {
      "name": "python3",
      "display_name": "Python 3"
    },
    "language_info": {
      "name": "python"
    }
  },
  "cells": [
    {
      "cell_type": "markdown",
      "metadata": {
        "id": "view-in-github",
        "colab_type": "text"
      },
      "source": [
        "<a href=\"https://colab.research.google.com/github/gmldnjs03/basic-statistics-programing/blob/main/%EC%98%88%EC%83%81%EB%AC%B8%EC%A0%9C1%2C2.ipynb\" target=\"_parent\"><img src=\"https://colab.research.google.com/assets/colab-badge.svg\" alt=\"Open In Colab\"/></a>"
      ]
    },
    {
      "cell_type": "code",
      "execution_count": null,
      "metadata": {
        "id": "15yGgjP5rb9b"
      },
      "outputs": [],
      "source": [
        "# 코드\n",
        "import tensorflow as tf\n",
        "import numpy as np\n",
        "import matplotlib as mpl\n",
        "import matplotlib.pyplot as plt\n",
        "import pandas as pd\n",
        "import os\n",
        "\n",
        "mpl.rcParams['figure.figsize'] = (8, 6)\n",
        "mpl.rcParams['axes.grid'] = False\n",
        "\n",
        "\n",
        "zip_path = tf.keras.utils.get_file(\n",
        "  origin='https://storage.googleapis.com/tensorflow/tf-keras-datasets/jena_climate_2009_2016.csv.zip',\n",
        "  fname='jena_climate_2009_2016.csv.zip',\n",
        "  extract=True)\n",
        "csv_path, _ = os.path.splitext(zip_path)\n",
        "\n",
        "df = pd.read_csv(csv_path)\n",
        "print(df.head())\n",
        "print(df.columns)\n",
        "\n",
        "uni_data = df['T (degC)']\n",
        "uni_data.index = df['Date Time']\n",
        "print(uni_data.head())\n",
        "\n",
        "uni_data.plot(subplots=True)\n",
        "plt.show()"
      ]
    },
    {
      "cell_type": "code",
      "source": [
        "len(uni_data)"
      ],
      "metadata": {
        "id": "mg82uK7RsfyB"
      },
      "execution_count": null,
      "outputs": []
    },
    {
      "cell_type": "code",
      "source": [
        "alpha=0.7\n",
        "n_samples=420551\n",
        "time_end=10"
      ],
      "metadata": {
        "id": "lxsqc9IxslRm"
      },
      "execution_count": null,
      "outputs": []
    },
    {
      "cell_type": "code",
      "source": [
        "\n",
        "def low_pass_filter(x_meas,x_esti,m_alpha):\n",
        "    x_esti=alpha*x_esti+(1-m_alpha)*x_meas\n",
        "    return x_esti"
      ],
      "metadata": {
        "id": "4fcPrzyvsPj9"
      },
      "execution_count": null,
      "outputs": []
    },
    {
      "cell_type": "code",
      "source": [
        "\n",
        "dt= time_end / n_samples\n",
        "time=np.arange(0,time_end, dt)\n",
        "x_meas_save=np.zeros(n_samples)\n",
        "x_esti_save=np.zeros(n_samples)"
      ],
      "metadata": {
        "id": "TEFmlgGusPcs"
      },
      "execution_count": null,
      "outputs": []
    },
    {
      "cell_type": "code",
      "source": [
        "x_esti=None\n",
        "for i in range(n_samples):\n",
        "    x_meas = uni_data[i]\n",
        "    if i == 0:\n",
        "        x_esti=x_meas\n",
        "    else:\n",
        "        x_esti=low_pass_filter(x_meas,x_esti,alpha)\n",
        "\n",
        "    x_meas_save[i]=x_meas\n",
        "    x_esti_save[i]=x_esti"
      ],
      "metadata": {
        "id": "bjmQQWw1suqw"
      },
      "execution_count": null,
      "outputs": []
    },
    {
      "cell_type": "code",
      "source": [
        "plt.plot(time, x_meas_save, 'r*', label='Measured')\n",
        "plt.plot(time, x_esti_save, 'b-', label='Low-pass Filter')\n",
        "plt.legend(loc='upper left')\n",
        "plt.title('Measured Altitudes v.s. LPF Values')\n",
        "plt.xlabel('Time [sec]')\n",
        "plt.ylabel('Altitude [m]')\n",
        "plt.savefig('low_pass_filter.png')"
      ],
      "metadata": {
        "id": "bg-aJo9ltbCM"
      },
      "execution_count": null,
      "outputs": []
    },
    {
      "cell_type": "markdown",
      "source": [
        "이유: 대게 측정하려는 신호는 저주파이고 노이즈는 고주파 성분으로 되어있기 때문에 저주파 통과 필터를 사용하였다.\n",
        "근거"
      ],
      "metadata": {
        "id": "q4OxuoocueRf"
      }
    },
    {
      "cell_type": "markdown",
      "source": [],
      "metadata": {
        "id": "-Xer5jD7KdXG"
      }
    },
    {
      "cell_type": "code",
      "source": [
        "print(\"표준편차\",np.std(uni_data))\n",
        "print(\"평균\",np.mean(uni_data))"
      ],
      "metadata": {
        "id": "Qjmhq072GOhC"
      },
      "execution_count": null,
      "outputs": []
    }
  ]
}