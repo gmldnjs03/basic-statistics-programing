{
  "nbformat": 4,
  "nbformat_minor": 0,
  "metadata": {
    "colab": {
      "provenance": [],
      "authorship_tag": "ABX9TyNDykdyqJhkRX0VOduaA7lS",
      "include_colab_link": true
    },
    "kernelspec": {
      "name": "python3",
      "display_name": "Python 3"
    },
    "language_info": {
      "name": "python"
    }
  },
  "cells": [
    {
      "cell_type": "markdown",
      "metadata": {
        "id": "view-in-github",
        "colab_type": "text"
      },
      "source": [
        "<a href=\"https://colab.research.google.com/github/gmldnjs03/basic-statistics-programing/blob/main/%EC%98%88%EC%83%81_%EB%AC%B8%EC%A0%9C3.ipynb\" target=\"_parent\"><img src=\"https://colab.research.google.com/assets/colab-badge.svg\" alt=\"Open In Colab\"/></a>"
      ]
    },
    {
      "cell_type": "code",
      "source": [
        "import pandas as pd\n",
        "\n",
        "\n",
        "## 가상 데이터 생성\n",
        "smoking_group = {\"goal\":{\"man\":27, \"woman\" :9},\n",
        "                \"pass\":{\"man\":8, \"woman\" :6}}\n",
        "           \n",
        "table = pd.DataFrame(smoking_group).transpose()         \n",
        "\n",
        "## 각각 확률 계산\n",
        "P_goal = table.loc[\"goal\"].sum()/table.values.sum()\n",
        "P_pass= table.loc[\"pass\"].sum()/table.values.sum()\n",
        "P_smoking = table[\"woman\"].sum()/table.values.sum()\n",
        "P_smoking_given_goal = table.loc[\"goal\"][\"woman\"]/table.loc[\"goal\"].sum()\n",
        "P_smoking_given_pass = table.loc[\"pass\"][\"woman\"]/table.loc[\"pass\"].sum()\n",
        "\n",
        "\n",
        "                                  \n",
        "P_marathon_woman_goal = P_goal*P_smoking_given_goal/((P_goal*P_smoking_given_goal)+(P_pass*P_smoking_given_pass))\n",
        "print(\"여성회원이 마라톤에서 완주할 확률:{}\".format(round(P_marathon_woman_goal,3)))\n",
        "print(\"p x 100= \",P_marathon_woman_goal*100)"
      ],
      "metadata": {
        "colab": {
          "base_uri": "https://localhost:8080/"
        },
        "id": "HChtvLcrjrE6",
        "outputId": "8f0bb9ec-1b8a-4d52-c42d-e151d55b3e95"
      },
      "execution_count": 10,
      "outputs": [
        {
          "output_type": "stream",
          "name": "stdout",
          "text": [
            "여성회원이 마라톤에서 완주할 확률:0.6\n",
            "p x 100=  60.0\n"
          ]
        }
      ]
    }
  ]
}