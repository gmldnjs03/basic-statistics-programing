{
  "nbformat": 4,
  "nbformat_minor": 0,
  "metadata": {
    "colab": {
      "private_outputs": true,
      "provenance": [],
      "authorship_tag": "ABX9TyOW/809w52QllmK8tG8reQq",
      "include_colab_link": true
    },
    "kernelspec": {
      "name": "python3",
      "display_name": "Python 3"
    },
    "language_info": {
      "name": "python"
    }
  },
  "cells": [
    {
      "cell_type": "markdown",
      "metadata": {
        "id": "view-in-github",
        "colab_type": "text"
      },
      "source": [
        "<a href=\"https://colab.research.google.com/github/gmldnjs03/basic-statistics-programing/blob/main/seoul_bus.ipynb\" target=\"_parent\"><img src=\"https://colab.research.google.com/assets/colab-badge.svg\" alt=\"Open In Colab\"/></a>"
      ]
    },
    {
      "cell_type": "code",
      "execution_count": null,
      "metadata": {
        "id": "9p85fZbqpDnl"
      },
      "outputs": [],
      "source": [
        "import pandas as pd\n",
        "import numpy as np\n",
        "import matplotlib.pyplot as plt"
      ]
    },
    {
      "cell_type": "code",
      "source": [
        "data = pd.read_csv('/content/seoul.csv',sep=',')"
      ],
      "metadata": {
        "id": "YqywKLhkpWq_"
      },
      "execution_count": null,
      "outputs": []
    },
    {
      "cell_type": "code",
      "source": [
        "data.info()"
      ],
      "metadata": {
        "id": "rn2D4k2i06rG"
      },
      "execution_count": null,
      "outputs": []
    },
    {
      "cell_type": "code",
      "source": [
        "data.shape"
      ],
      "metadata": {
        "id": "zgEfrJqo1fMm"
      },
      "execution_count": null,
      "outputs": []
    },
    {
      "cell_type": "code",
      "source": [
        "print(data)"
      ],
      "metadata": {
        "id": "dJ1zmBux0c2G"
      },
      "execution_count": null,
      "outputs": []
    },
    {
      "cell_type": "code",
      "source": [
        "data1 = data['all']"
      ],
      "metadata": {
        "id": "PspuVcm_pvXN"
      },
      "execution_count": null,
      "outputs": []
    },
    {
      "cell_type": "code",
      "source": [
        "plt.title('seoul_bus_data')\n",
        "plt.plot(data1)"
      ],
      "metadata": {
        "id": "rtfgcyg2vJQv"
      },
      "execution_count": null,
      "outputs": []
    },
    {
      "cell_type": "code",
      "source": [
        "def average(k, x_avg_k_1, x_data):\n",
        "    alpha = (k-1)/k\n",
        "    x_avg_k = alpha * x_avg_k_1 + (1-alpha) * x_data\n",
        "\n",
        "    return x_avg_k\n"
      ],
      "metadata": {
        "id": "okVqRdtZvNgm"
      },
      "execution_count": null,
      "outputs": []
    },
    {
      "cell_type": "code",
      "source": [
        "time1= 51095\n",
        "x_dat_save = np.zeros(time1)\n",
        "x_avg_save = np.zeros(time1)\n",
        "time=np.zeros(time1)"
      ],
      "metadata": {
        "id": "ArMtiFMH331i"
      },
      "execution_count": null,
      "outputs": []
    },
    {
      "cell_type": "code",
      "source": [
        "x_avg_k_1 = 0\n",
        "for i in range(51095):\n",
        "    k = i + 1\n",
        "    \n",
        "    x_data = data1[i]   \n",
        "    \n",
        "    x_avg_k = average(k, x_avg_k_1, x_data)\n",
        "    x_dat_save[i] = x_data\n",
        "    x_avg_save[i] = x_avg_k\n",
        "    time[i]= k\n",
        "    x_avg_k_1 = x_avg_k\n",
        "    "
      ],
      "metadata": {
        "id": "808t92zJ4Yqo"
      },
      "execution_count": null,
      "outputs": []
    },
    {
      "cell_type": "code",
      "source": [
        "plt.plot(time, x_dat_save, 'r*', label='Measured')\n",
        "plt.plot(time, x_avg_save, 'b-', label='Average')\n",
        "plt.legend(loc='upper left')\n",
        "plt.title('Measured Voltages v.s. Average Filter Values')\n",
        "plt.xlabel('da')\n",
        "plt.ylabel('Volt [V]')\n",
        "plt.savefig('/content/png')"
      ],
      "metadata": {
        "id": "gxc_TEvV45hJ"
      },
      "execution_count": null,
      "outputs": []
    }
  ]
}