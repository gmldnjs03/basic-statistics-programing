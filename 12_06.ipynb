{
  "nbformat": 4,
  "nbformat_minor": 0,
  "metadata": {
    "colab": {
      "private_outputs": true,
      "provenance": [],
      "authorship_tag": "ABX9TyNMPu6cZEPkBey5Nc2dbZ4j",
      "include_colab_link": true
    },
    "kernelspec": {
      "name": "python3",
      "display_name": "Python 3"
    },
    "language_info": {
      "name": "python"
    }
  },
  "cells": [
    {
      "cell_type": "markdown",
      "metadata": {
        "id": "view-in-github",
        "colab_type": "text"
      },
      "source": [
        "<a href=\"https://colab.research.google.com/github/gmldnjs03/basic-statistics-programing/blob/main/12_06.ipynb\" target=\"_parent\"><img src=\"https://colab.research.google.com/assets/colab-badge.svg\" alt=\"Open In Colab\"/></a>"
      ]
    },
    {
      "cell_type": "code",
      "execution_count": null,
      "metadata": {
        "id": "_OZcBvyy134P"
      },
      "outputs": [],
      "source": [
        "import numpy as np"
      ]
    },
    {
      "cell_type": "code",
      "source": [
        "eig=np.linalg.eig\n",
        "matrix=np.matrix\n",
        "testmatrix=matrix([[4,2],[2,4]])\n",
        "print(eig(testmatrix))"
      ],
      "metadata": {
        "id": "2K1FBfWH239h"
      },
      "execution_count": null,
      "outputs": []
    },
    {
      "cell_type": "code",
      "source": [
        "value=eig(testmatrix)[0]\n",
        "vactor=eig(testmatrix)[1]\n",
        "print(\"Eigenvalue:\",value)\n",
        "print(\"Eigenvactor:\",vactor)"
      ],
      "metadata": {
        "id": "sGW-VbHT3UTY"
      },
      "execution_count": null,
      "outputs": []
    },
    {
      "cell_type": "code",
      "source": [
        "a=matrix([[4,2],[3,5]])\n",
        "print(eig(a))\n",
        "value=eig(a)[0]\n",
        "vactor=eig(a)[1]\n",
        "print(\"Eigenvalue:\",value)\n",
        "print(\"Eigenvactor:\",vactor)"
      ],
      "metadata": {
        "id": "0E8mn9QO4crf"
      },
      "execution_count": null,
      "outputs": []
    },
    {
      "cell_type": "code",
      "source": [
        "a=np.array([[5,-1],[-2,1]])\n",
        "w,v=np.linalg.eig(a)\n",
        "print(w)\n",
        "print(v)"
      ],
      "metadata": {
        "id": "0ySFvZnP6mAY"
      },
      "execution_count": null,
      "outputs": []
    },
    {
      "cell_type": "code",
      "source": [
        "a=matrix([[5,-1],[-2,1]])\n",
        "print(eig(a))\n",
        "value=eig(a)[0]\n",
        "vactor=eig(a)[1]\n",
        "print(\"Eigenvalue:\",value)\n",
        "print(\"Eigenvactor:\",vactor)"
      ],
      "metadata": {
        "id": "ZINtr8yN8wuo"
      },
      "execution_count": null,
      "outputs": []
    },
    {
      "cell_type": "code",
      "source": [
        "a=matrix([[6,13],[17,8]])\n",
        "print(eig(a))\n",
        "value=eig(a)[0]\n",
        "vactor=eig(a)[1]\n",
        "print(\"Eigenvalue:\",value)\n",
        "print(\"Eigenvactor:\",vactor)"
      ],
      "metadata": {
        "id": "IQFzlTdwFH6m"
      },
      "execution_count": null,
      "outputs": []
    },
    {
      "cell_type": "code",
      "source": [
        "import math\n",
        "import matplotlib.pyplot as plt\n",
        "import numpy as np\n",
        "\n",
        "a=[6,13]\n",
        "b=[17,8]\n",
        "\n",
        "plt.figure(figsize=(10,10))\n",
        "plt.xlim(0,20)\n",
        "plt.ylim(0,20)\n",
        "plt.xticks(ticks=np.arange(0,20,step=1))\n",
        "plt.yticks(ticks=np.arange(0,20,step=1))\n",
        "plt.arrow(0,0,a[0],a[1],head_width=.5,head_length=.5,color=\"red\")\n",
        "plt.arrow(0,0,b[0],b[1],head_width=.5,head_length=.5,color=\"blue\")\n",
        "\n",
        "plt.axhline(0,color = 'gray', alpha = 0.3)\n",
        "plt.axvline(0,color = 'gray', alpha = 0.3)\n",
        "plt.title(\"Vector\")\n",
        "plt.grid()\n",
        "plt.show()"
      ],
      "metadata": {
        "id": "wdXqw7rR9Hin"
      },
      "execution_count": null,
      "outputs": []
    },
    {
      "cell_type": "code",
      "source": [
        "\n",
        "a=matrix([[-2,-4,2],[-2,1,2],[4,2,5]])\n",
        "print(eig(a))\n",
        "value=eig(a)[0]\n",
        "vactor=eig(a)[1]\n",
        "print(\"Eigenvalue:\",value)\n",
        "print(\"Eigenvactor:\",vactor)"
      ],
      "metadata": {
        "id": "EKnuWdtJEl2e"
      },
      "execution_count": null,
      "outputs": []
    },
    {
      "cell_type": "code",
      "source": [
        "a = np.array([[-2,4,2],[-2,1,2],[4,2,5]])\n",
        "w,v=np.linalg.eig(a)\n",
        "print(w)\n",
        "print(v)"
      ],
      "metadata": {
        "id": "6gwSzcIBG2uG"
      },
      "execution_count": null,
      "outputs": []
    },
    {
      "cell_type": "code",
      "source": [
        "from mpl_toolkits.mplot3d import Axes3D"
      ],
      "metadata": {
        "id": "BfHb11dFJI6l"
      },
      "execution_count": null,
      "outputs": []
    },
    {
      "cell_type": "code",
      "source": [
        "vectors = np.array([1,0,0,0,1,0,0,0,1]).reshape(3,3)\n",
        "X, Y, Z = zip(*vectors)\n",
        "fig = plt.figure()\n",
        "ax = fig.add_subplot(projection='3d')\n",
        "ax.quiver(0,0,0,X, Y, Z, length=1)\n",
        "ax.set_xlim([-1, 1])\n",
        "ax.set_ylim([-1, 1])\n",
        "ax.set_zlim([-1, 1])\n",
        "ax.set_xlabel('X')\n",
        "ax.set_ylabel('Y')\n",
        "ax.set_zlabel('Z')\n",
        "plt.show()"
      ],
      "metadata": {
        "id": "IJ-Q-oFzJZxl"
      },
      "execution_count": null,
      "outputs": []
    },
    {
      "cell_type": "code",
      "source": [
        "vectors = np.array([-2,4,2,-2,1,2,4,2,5]).reshape(3,3)\n",
        "X, Y, Z = zip(*vectors)\n",
        "fig = plt.figure()\n",
        "ax = fig.add_subplot(projection='3d')\n",
        "ax.quiver(0,0,0,X, Y, Z, length=1)\n",
        "ax.set_xlim([-1, 1])\n",
        "ax.set_ylim([-1, 1])\n",
        "ax.set_zlim([-1, 1])\n",
        "ax.set_xlabel('X')\n",
        "ax.set_ylabel('Y')\n",
        "ax.set_zlabel('Z')\n",
        "plt.show()"
      ],
      "metadata": {
        "id": "PZdPAYnxK9-N"
      },
      "execution_count": null,
      "outputs": []
    },
    {
      "cell_type": "code",
      "source": [
        "A=np.array([[-2,4,2],[-2,1,2],[4,2,5]])\n",
        "print(\"Matrix A:\")\n",
        "print(A)\n",
        "print()\n",
        "eigenvalue, eigenvactor = np.linalg.eig(A)\n",
        "eigenvalue = np.round(eigenvalue,5)\n",
        "eigenvactor= np.round(eigenvactor,5)\n",
        "print(\"Eigen Value\")\n",
        "print(eigenvalue)\n",
        "print()\n",
        "\n",
        "print(\"Eigen Value Diagonal Matrix \\u039B(lambda):\")\n",
        "eigenvalue=np.array([[eigenvalue[0],0,0],[0,eigenvalue[1],0],[0,0,eigenvalue[2]]])\n",
        "print(eigenvalue)\n",
        "print()\n",
        "\n",
        "print(\"Eigen Vactor Matrix P:\")\n",
        "print(eigenvactor)\n",
        "print()\n",
        "\n",
        "print(\"AP=\")\n",
        "print(np.round(A@eigenvactor,0))\n",
        "print()\n",
        "\n",
        "print(\"P\\u039B=\")\n",
        "print(np.round(eigenvactor@eigenvalue))"
      ],
      "metadata": {
        "id": "2_8dB8-KLOhk"
      },
      "execution_count": null,
      "outputs": []
    },
    {
      "cell_type": "code",
      "source": [
        "A=np.array([[3.73,3.57,3.22,2.81,2.91,2.67]])\n",
        "print(A)\n",
        "print(\"평균\")\n",
        "print(np.mean(A))\n",
        "print(\"분산\")\n",
        "print(np.var(A))"
      ],
      "metadata": {
        "id": "F5H3faymLecu"
      },
      "execution_count": null,
      "outputs": []
    },
    {
      "cell_type": "code",
      "source": [
        "A=np.array([\n",
        "            [3.73,1.86,15.8,4.05,7.27,45.66,34.92],\n",
        "            [3.57,1.80,16.23,2.96,6.71,42.56,37.31],\n",
        "            [3.22,1.83,14.20,3.51,6.68,44.54,39.23],\n",
        "            [2.81,1.80,15.23,2.69,6.25,42.78,31.19],\n",
        "            [2.91,1.74,14.76,2.68,6.32,47.46,35.53],\n",
        "            [2.67,1.83,13.50,1.96,6.33,42.82,37.64]\n",
        "])\n",
        "\n",
        "print(A)\n",
        "print()\n",
        "print(\"covariance matrix\")\n",
        "B=np.cov(A,rowvar=False)\n",
        "print(np.array2string(B,formatter={\"float_kind\":lambda x: \"%.4f\"%x}))"
      ],
      "metadata": {
        "id": "h5J-XhY6PHB1"
      },
      "execution_count": null,
      "outputs": []
    }
  ]
}