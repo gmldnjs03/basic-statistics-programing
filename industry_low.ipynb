{
  "nbformat": 4,
  "nbformat_minor": 0,
  "metadata": {
    "colab": {
      "private_outputs": true,
      "provenance": [],
      "authorship_tag": "ABX9TyOLgA77eMRnVV1QTthGpK+H",
      "include_colab_link": true
    },
    "kernelspec": {
      "name": "python3",
      "display_name": "Python 3"
    },
    "language_info": {
      "name": "python"
    }
  },
  "cells": [
    {
      "cell_type": "markdown",
      "metadata": {
        "id": "view-in-github",
        "colab_type": "text"
      },
      "source": [
        "<a href=\"https://colab.research.google.com/github/gmldnjs03/basic-statistics-programing/blob/main/industry_low.ipynb\" target=\"_parent\"><img src=\"https://colab.research.google.com/assets/colab-badge.svg\" alt=\"Open In Colab\"/></a>"
      ]
    },
    {
      "cell_type": "code",
      "execution_count": null,
      "metadata": {
        "id": "O6Nis_IEPMu4"
      },
      "outputs": [],
      "source": [
        "import pandas as pd\n",
        "import numpy as np\n",
        "import matplotlib.pyplot as plt"
      ]
    },
    {
      "cell_type": "code",
      "source": [
        "data = pd.read_csv(\"/content/산업별_취업자_20210206234505.csv\",sep=',' )"
      ],
      "metadata": {
        "id": "hgB-gv3KPTut"
      },
      "execution_count": null,
      "outputs": []
    },
    {
      "cell_type": "code",
      "source": [
        "def get_industry(i):\n",
        "    z = data['sum'][i] \n",
        "    return z"
      ],
      "metadata": {
        "id": "cl75KbQYPnWi"
      },
      "execution_count": null,
      "outputs": []
    },
    {
      "cell_type": "code",
      "source": [
        "def low_pass_filter(x_meas,x_esti,m_alpha):\n",
        "    x_esti=alpha*x_esti+(1-alpha)*x_meas\n",
        "    return x_esti"
      ],
      "metadata": {
        "id": "ntsukvbIPq2G"
      },
      "execution_count": null,
      "outputs": []
    },
    {
      "cell_type": "code",
      "source": [
        "def avg_filter(k, x_avg_k_1, x_measure):\n",
        "    alpha =  (k - 1)/k \n",
        "    x_avg = alpha * x_avg_k_1 + (1 - alpha) * x_measure\n",
        "    return x_avg"
      ],
      "metadata": {
        "id": "bRNz-TTxP11l"
      },
      "execution_count": null,
      "outputs": []
    },
    {
      "cell_type": "code",
      "source": [
        "len(data)"
      ],
      "metadata": {
        "id": "cI97oN12P5sc"
      },
      "execution_count": null,
      "outputs": []
    },
    {
      "cell_type": "code",
      "source": [
        "alpha=0.7\n",
        "n_samples=96\n",
        "time_end=10"
      ],
      "metadata": {
        "id": "X1nQZARRP4vV"
      },
      "execution_count": null,
      "outputs": []
    },
    {
      "cell_type": "code",
      "source": [
        "dt = time_end / n_samples\n",
        "time = np.arange(0, time_end,dt)\n",
        "x_meas_save = np.zeros(n_samples)\n",
        "x_esti_save = np.zeros(n_samples)\n",
        "x_avg_save = np.zeros(n_samples)"
      ],
      "metadata": {
        "id": "t3WksitjP922"
      },
      "execution_count": null,
      "outputs": []
    },
    {
      "cell_type": "code",
      "source": [
        "x_esti = None\n",
        "x_avg = 0\n",
        "for i in range(n_samples):\n",
        "    x_meas = get_industry(i)\n",
        "    k = i + 1\n",
        "    x_avg_k = avg_filter(k,x_meas, x_avg)\n",
        "    if i == 0:\n",
        "        x_esti = x_meas\n",
        "    else:\n",
        "        x_esti = low_pass_filter(x_meas, x_esti,alpha)\n",
        "\n",
        "    x_meas_save[i] = x_meas\n",
        "    x_esti_save[i] = x_esti\n",
        "    x_avg_save[i] = x_avg"
      ],
      "metadata": {
        "id": "JETjIxinQC4Z"
      },
      "execution_count": null,
      "outputs": []
    },
    {
      "cell_type": "code",
      "source": [
        "plt.plot(time, x_meas_save, 'r*', label='Measured')\n",
        "plt.plot(time, x_esti_save, 'b-', label='Low-pass Filter')\n",
        "plt.legend(loc='upper left')\n",
        "plt.title('industry')\n",
        "plt.xlabel('')\n",
        "plt.ylabel('')\n",
        "plt.savefig('low_pass_filter.png')"
      ],
      "metadata": {
        "id": "kw4R0TGcQHy1"
      },
      "execution_count": null,
      "outputs": []
    }
  ]
}
