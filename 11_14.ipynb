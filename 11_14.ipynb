{
  "nbformat": 4,
  "nbformat_minor": 0,
  "metadata": {
    "colab": {
      "private_outputs": true,
      "provenance": [],
      "authorship_tag": "ABX9TyM7USDbkSY2/cBpdzTrnxLa",
      "include_colab_link": true
    },
    "kernelspec": {
      "name": "python3",
      "display_name": "Python 3"
    },
    "language_info": {
      "name": "python"
    }
  },
  "cells": [
    {
      "cell_type": "markdown",
      "metadata": {
        "id": "view-in-github",
        "colab_type": "text"
      },
      "source": [
        "<a href=\"https://colab.research.google.com/github/gmldnjs03/basic-statistics-programing/blob/main/11_14.ipynb\" target=\"_parent\"><img src=\"https://colab.research.google.com/assets/colab-badge.svg\" alt=\"Open In Colab\"/></a>"
      ]
    },
    {
      "cell_type": "markdown",
      "source": [
        "\n",
        "\n",
        "*   평균을 구한다\n",
        "*   선형 보간\n",
        "\n",
        "\n",
        "\n",
        "\n"
      ],
      "metadata": {
        "id": "B_6Yj2SMkFW_"
      }
    },
    {
      "cell_type": "code",
      "execution_count": null,
      "metadata": {
        "id": "mCehK3uOfVSU"
      },
      "outputs": [],
      "source": [
        "import pandas as pd\n",
        "import numpy as np\n",
        "import matplotlib.pyplot as plt"
      ]
    },
    {
      "cell_type": "code",
      "source": [
        "x=[1,2,3,4,5,6,7,8,9]\n",
        "y=[10,40,30,50,60,10,60,100,200]"
      ],
      "metadata": {
        "id": "MU62qa4jf13w"
      },
      "execution_count": null,
      "outputs": []
    },
    {
      "cell_type": "code",
      "source": [
        "plt.xlabel(\"x data\")\n",
        "plt.ylabel(\"y data\")\n",
        "plt.grid(color=\"green\", alpha=0.5, linestyle=\"--\")\n",
        "plt.plot(x,y)"
      ],
      "metadata": {
        "id": "5WjrJjEhgGBI"
      },
      "execution_count": null,
      "outputs": []
    },
    {
      "cell_type": "code",
      "source": [
        "y=[10,np.nan,30,50,60,10,60,100,200]\n",
        "plt.grid(color=\"green\", alpha=0.5, linestyle=\"--\")\n",
        "plt.plot(x,y,marker=\"o\")"
      ],
      "metadata": {
        "id": "gTU3MyWdgQmX"
      },
      "execution_count": null,
      "outputs": []
    },
    {
      "cell_type": "code",
      "source": [
        "def missing_data(y1,y2):\n",
        "    avg_data=(y2+y1)/2\n",
        "\n",
        "    return avg_data"
      ],
      "metadata": {
        "id": "DWC_8bPChYe2"
      },
      "execution_count": null,
      "outputs": []
    },
    {
      "cell_type": "code",
      "source": [
        "a=y[0]\n",
        "b=y[2]\n",
        "y[1]=missing_data(a,b)\n",
        "plt.grid(color=\"green\", alpha=0.5, linestyle=\"--\")\n",
        "plt.plot(x,y,marker=\"o\")"
      ],
      "metadata": {
        "id": "gcys0FfRh5OY"
      },
      "execution_count": null,
      "outputs": []
    },
    {
      "cell_type": "code",
      "source": [
        "def map1(x1,y1,x3,y3,x2):\n",
        "    a=(y3-y1)/(x3-x1)\n",
        "    b=y1-a*x1 \n",
        "    estimated_data=a*x2+b\n",
        "    return estimated_data\n",
        "y[1]=map1(x[0],y[0],x[2],y[2],x[1])\n",
        "plt.grid(color=\"green\", alpha=0.5, linestyle=\"--\")\n",
        "plt.plot(x,y,marker=\"o\")"
      ],
      "metadata": {
        "id": "bPcW80-OixJ4"
      },
      "execution_count": null,
      "outputs": []
    },
    {
      "cell_type": "code",
      "source": [
        "y=[10,40,30,50,60,10,60,100,200]\n",
        "x=[1,2,3,4,5,6,7,8,9]\n",
        "#1.3일 때 데이터를 추정하세요"
      ],
      "metadata": {
        "id": "Wihot0v3kBNW"
      },
      "execution_count": null,
      "outputs": []
    },
    {
      "cell_type": "code",
      "source": [
        "def map1(x1,y1,x3,y3,x2):\n",
        "    a=(y3-y1)/(x3-x1)\n",
        "    b=y1-a*x1 \n",
        "    estimated_data=a*x2+b\n",
        "    return estimated_data\n",
        "y[1]=map1(x[0],y[0],x[1],y[1],1.3)\n",
        "plt.grid(color=\"green\", alpha=0.5, linestyle=\"--\")\n",
        "plt.plot(x,y,marker=\"o\")"
      ],
      "metadata": {
        "id": "bKPeGjkumH8O"
      },
      "execution_count": null,
      "outputs": []
    },
    {
      "cell_type": "code",
      "source": [
        "def map2(x1,y1,x2,y2,x_input):\n",
        "    d1= x_input-x1\n",
        "    d2= x2- x_input\n",
        "    alpha= d1/(d1+d2)\n",
        "    beta= d2/(d1+d2)\n",
        "    estimated_data=alpha+beta*y2\n",
        "    return  estimated_data\n",
        "y[1]=map1(x[0],y[0],x[2],y[2],x[1])\n",
        "plt.grid(color=\"green\", alpha=0.5, linestyle=\"--\")\n",
        "plt.plot(x,y,marker=\"o\")"
      ],
      "metadata": {
        "id": "WBigvNRymcmm"
      },
      "execution_count": null,
      "outputs": []
    },
    {
      "cell_type": "code",
      "source": [
        "y=[[2,3],\n",
        "   [4,0]]\n",
        "\n",
        "x=[[0,1],\n",
        "   [0,1]]"
      ],
      "metadata": {
        "id": "GMIbyLU8qJW8"
      },
      "execution_count": null,
      "outputs": []
    },
    {
      "cell_type": "code",
      "source": [
        "def map_2D(x1,y1,z1, x2,y2,z2, x3,y3,z3, x4,y4,z4, x_input,y_input):\n",
        "    h1=(x_input-y1)/(y2-y1)\n",
        "    h2=(y2-y_input)/(y2-y1)\n",
        "    m= h1*z2*h2*z1\n",
        "    print(h1)\n",
        "    print(h2)\n",
        "    print(m)\n",
        "    h3=(y_input-y3)/(y4-y3)\n",
        "    h4=(y4-y_input)/(y4-y3)\n",
        "    n=h3*z3*h4*z4\n",
        "    print(h3)\n",
        "    print(h4)\n",
        "    print(n)\n",
        "    v1=(x_input-x1)/(x3-x1)\n",
        "    v2=(x3-x_input)/(x3-x1)\n",
        "    p=m*v2+n*v1\n",
        "    print(V1)\n",
        "    print(V2)\n",
        "    print(P)\n",
        "    return p"
      ],
      "metadata": {
        "id": "1xcWvDMcqYFc"
      },
      "execution_count": null,
      "outputs": []
    },
    {
      "cell_type": "code",
      "source": [
        "result=map_2D(0,0,2, 0,1,4, 1,0,3, 1,1,0, 0,1) \n",
        "print(result)"
      ],
      "metadata": {
        "id": "S_oh9ppW1BtK"
      },
      "execution_count": null,
      "outputs": []
    }
  ]
}