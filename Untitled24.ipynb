{
  "nbformat": 4,
  "nbformat_minor": 0,
  "metadata": {
    "colab": {
      "private_outputs": true,
      "provenance": [],
      "authorship_tag": "ABX9TyPcGGZfKfbr1r6o7F3O8peG",
      "include_colab_link": true
    },
    "kernelspec": {
      "name": "python3",
      "display_name": "Python 3"
    },
    "language_info": {
      "name": "python"
    }
  },
  "cells": [
    {
      "cell_type": "markdown",
      "metadata": {
        "id": "view-in-github",
        "colab_type": "text"
      },
      "source": [
        "<a href=\"https://colab.research.google.com/github/gmldnjs03/basic-statistics-programing/blob/main/Untitled24.ipynb\" target=\"_parent\"><img src=\"https://colab.research.google.com/assets/colab-badge.svg\" alt=\"Open In Colab\"/></a>"
      ]
    },
    {
      "cell_type": "code",
      "execution_count": null,
      "metadata": {
        "id": "VRokX9zunrEZ"
      },
      "outputs": [],
      "source": [
        "import numpy as np"
      ]
    },
    {
      "cell_type": "code",
      "source": [
        "A= np.array([[2,3],[5,6]])\n",
        "B=np.array([4,5])\n",
        "C=np.linalg.solve(A,B)\n",
        "print(C)"
      ],
      "metadata": {
        "id": "hYI6NYWzoX6q"
      },
      "execution_count": null,
      "outputs": []
    },
    {
      "cell_type": "code",
      "source": [
        "A=np.array([[-2,-5,2],[1,3,0],[0,1,3]])\n",
        "B=np.array([-3,4,6])\n",
        "C=np.linalg.solve(A,B)\n",
        "print(C)"
      ],
      "metadata": {
        "id": "5raPufSiplCq"
      },
      "execution_count": null,
      "outputs": []
    },
    {
      "cell_type": "code",
      "source": [
        "A= np.array([[2,3],[5,6]])\n",
        "B=np.array([4,5])\n",
        "C=np.linalg.inv(A)\n",
        "D=np.dot(C,B)\n",
        "print(D)"
      ],
      "metadata": {
        "id": "ieew_gTOsXLF"
      },
      "execution_count": null,
      "outputs": []
    },
    {
      "cell_type": "code",
      "source": [
        "A=np.array([[-2,-5,2],[1,3,0],[0,1,3]])\n",
        "B=np.array([-3,4,6])\n",
        "C=np.linalg.inv(A)\n",
        "D=np.dot(C,B)\n",
        "print(D)"
      ],
      "metadata": {
        "id": "K2U6RwcUsvA2"
      },
      "execution_count": null,
      "outputs": []
    },
    {
      "cell_type": "code",
      "source": [
        "A=np.array([[1,1],[2,1],[3,1]])\n",
        "C=np.linalg.inv(B)\n",
        "D=np.transpose(A)\n",
        "B=np.dot(D,A)\n",
        "AP=np.matmul(C,D)\n",
        "print(AP)"
      ],
      "metadata": {
        "id": "js-3YYtduGz3"
      },
      "execution_count": null,
      "outputs": []
    },
    {
      "cell_type": "code",
      "source": [
        "A=np.array([[1,1,1,1],[8,4,2,1],[27,9,3,1],[64,16,4,1],[125,25,5,1],[216,36,6,1]])\n",
        "b=np.array([2.1,3.5,4.2,3.1,4.4,6.8])\n",
        "D=np.transpose(A)\n",
        "B=np.dot(D,A)\n",
        "C=np.linalg.inv(B)\n",
        "AP=np.matmul(C,D)\n",
        "E=np.dot(AP,b)\n",
        "print(E)\n"
      ],
      "metadata": {
        "id": "SwARgBVzxtRw"
      },
      "execution_count": null,
      "outputs": []
    },
    {
      "cell_type": "code",
      "source": [
        "A=np.array([[1,-1,1],[-1,1,1],[1,1,-1],[1,1,1]])\n",
        "C=np.linalg.inv(B)\n",
        "D=np.transpose(A)\n",
        "B=np.dot(D,A)\n",
        "AP=np.matmul(C,D)\n",
        "print(AP)"
      ],
      "metadata": {
        "id": "dHIDM2Fi2P0R"
      },
      "execution_count": null,
      "outputs": []
    }
  ]
}