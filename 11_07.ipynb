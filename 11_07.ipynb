{
  "nbformat": 4,
  "nbformat_minor": 0,
  "metadata": {
    "colab": {
      "private_outputs": true,
      "provenance": [],
      "authorship_tag": "ABX9TyM7hEeVCFoJqj2DFkd5JOUj",
      "include_colab_link": true
    },
    "kernelspec": {
      "name": "python3",
      "display_name": "Python 3"
    },
    "language_info": {
      "name": "python"
    }
  },
  "cells": [
    {
      "cell_type": "markdown",
      "metadata": {
        "id": "view-in-github",
        "colab_type": "text"
      },
      "source": [
        "<a href=\"https://colab.research.google.com/github/gmldnjs03/basic-statistics-programing/blob/main/11_07.ipynb\" target=\"_parent\"><img src=\"https://colab.research.google.com/assets/colab-badge.svg\" alt=\"Open In Colab\"/></a>"
      ]
    },
    {
      "cell_type": "code",
      "execution_count": null,
      "metadata": {
        "id": "KUBfb4MQdREo"
      },
      "outputs": [],
      "source": [
        "import numpy as np\n",
        "import pandas as pd\n",
        "from scipy.stats import norm\n",
        "import scipy.stats as st\n",
        "import scipy as sp\n",
        "import matplotlib.pyplot as plt\n",
        "import math"
      ]
    },
    {
      "cell_type": "markdown",
      "source": [
        "*   pmf 확률질량함수\n",
        "*   pdf 확률밀도함수\n",
        "\n",
        "*   cdf 누적분포함수\n",
        "\n",
        "*   ppf 누적분포함수의 역함수\n",
        "*   sf  생존함수 = 1-누적분포함수\n",
        "\n",
        "\n",
        "*   isf 생존함수의 역함수\n",
        "\n",
        "*   rvs 램덤표본 생성\n",
        "\n",
        "\n",
        "\n",
        "\n",
        "\n"
      ],
      "metadata": {
        "id": "HdlZRWQ8ecr5"
      }
    },
    {
      "cell_type": "code",
      "source": [
        "rv= sp.stats.norm(0,2)\n",
        "print(rv)\n",
        "x=np.linspace(-5,5,100)\n",
        "y1=rv.pdf(x)\n",
        "plt.plot(x,y1)\n",
        "plt.show()"
      ],
      "metadata": {
        "id": "LTKhupVud5tb"
      },
      "execution_count": null,
      "outputs": []
    },
    {
      "cell_type": "code",
      "source": [
        "rv= sp.stats.norm(0,1)\n",
        "y1=rv.pdf(x)\n",
        "plt.figure(figsize=(10,6))\n",
        "plt.plot(x,y1,color=\"red\")\n",
        "plt.xlabel(\"x\")\n",
        "plt.ylabel(\"y\")\n",
        "plt.grid()\n",
        "plt.title(\"Normal Distribution with scipy.stats\")\n",
        "plt.legend([\"N(0,1)\"])\n",
        "plt.show()"
      ],
      "metadata": {
        "id": "b7Fx6SgqgPtT"
      },
      "execution_count": null,
      "outputs": []
    },
    {
      "cell_type": "code",
      "source": [
        "def show_pdfcdf(rv,m,s):\n",
        "    mm = m\n",
        "    ss = 6*s\n",
        "    xx = np.linspace(mm-ss, mm+ss, 200)\n",
        "    pdf = rv.pdf(xx)\n",
        "    cdf = rv.cdf(xx)\n",
        "\n",
        "    plt.grid(True)\n",
        "    plt.plot(xx,pdf)\n",
        "    plt.plot(xx,cdf)\n",
        "    plt.title(f\"Norm(m={m}, s^2={s*s:3f})pdf & cdf\")\n",
        "    plt.savefig(\"dist.png\")\n",
        "    plt.show()\n",
        "\n",
        "m,s= 50.2, np.sqrt(46/100)\n",
        "rv = sp.stats.norm(m,s)\n",
        "\n",
        "show_pdfcdf(rv,m,s)\n",
        "\n",
        "x1, x2= 47,51\n",
        "print(f\"prob({x1}<x<{x2}) =\",rv.cdf(x2)-rv.cdf(x1))"
      ],
      "metadata": {
        "id": "XPgabs1WhSd7"
      },
      "execution_count": null,
      "outputs": []
    },
    {
      "cell_type": "code",
      "source": [
        "def show_pdfcdf(rv,m,s):\n",
        "    mm = m\n",
        "    ss = 6*s\n",
        "    xx = np.linspace(mm-ss, mm+ss, 200)\n",
        "    pdf = rv.pdf(xx)\n",
        "    cdf = rv.cdf(xx)\n",
        "\n",
        "    plt.grid(True)\n",
        "    plt.plot(xx,pdf)\n",
        "    plt.plot(xx,cdf)\n",
        "    plt.title(f\"Norm(m={m}, s^2={s*s:3f})pdf & cdf\")\n",
        "    plt.savefig(\"dist.png\")\n",
        "    plt.show()\n",
        "\n",
        "m,s= 30, np.sqrt(16)\n",
        "rv = sp.stats.norm(m,s)\n",
        "\n",
        "show_pdfcdf(rv,m,s)\n",
        "\n",
        "x1, x2= 47,51\n",
        "print(f\"prob({x1}<x<{x2}) =\",rv.cdf(x2)-rv.cdf(x1))"
      ],
      "metadata": {
        "id": "BmSRh9gVkSzz"
      },
      "execution_count": null,
      "outputs": []
    },
    {
      "cell_type": "code",
      "source": [
        "m,s = 30, 4\n",
        "rv = sp.stats.norm(m,s)\n",
        "show_pdfcdf(rv,m,s)\n",
        "x1=25\n",
        "x2=35\n",
        "print(f\"prob({x1} = \", rv.cdf(x1))\n",
        "print(f\"prob({x2} = \", rv.cdf(x2))\n",
        "print(f\"prob({x2}-{x1})\",rv.cdf(x2)-rv.cdf(x1))"
      ],
      "metadata": {
        "id": "UIU_VJ8Ik3-T"
      },
      "execution_count": null,
      "outputs": []
    },
    {
      "cell_type": "code",
      "source": [
        "m,s = 180*1/6, np.sqrt(180*1/6*5/6)\n",
        "rv = sp.stats.norm(m,s)\n",
        "print(m,s)\n",
        "show_pdfcdf(rv,m,s)\n",
        "x1=35\n",
        "x2=50\n",
        "print(f\"prob({x1} = \", rv.cdf(x1))\n",
        "print(f\"prob({x2} = \", rv.cdf(x2))\n",
        "print(f\"prob({x2}-{x1})\",rv.cdf(x2)-rv.cdf(x1))"
      ],
      "metadata": {
        "id": "GEbKh5-slqqz"
      },
      "execution_count": null,
      "outputs": []
    },
    {
      "cell_type": "code",
      "source": [
        "m,s = 2,9\n",
        "rv = sp.stats.norm(m,s)\n",
        "print(m,s)\n",
        "show_pdfcdf(rv,m,s)\n",
        "x1=2\n",
        "x2=8\n",
        "print(f\"prob({x1} = \", rv.cdf(x1))\n",
        "print(f\"prob({x2} = \", rv.cdf(x2))\n",
        "print(f\"prob({x2}-{x1})\",rv.cdf(x2)-rv.cdf(x1))"
      ],
      "metadata": {
        "id": "ZAoBqsqvnBEM"
      },
      "execution_count": null,
      "outputs": []
    },
    {
      "cell_type": "code",
      "source": [
        "m,s = 2, np.sqrt(9)\n",
        "rv = sp.stats.norm(m,s)\n",
        "print(m,s)\n",
        "show_pdfcdf(rv,m,s)\n",
        "x1=2\n",
        "x2=8\n",
        "print(f\"prob({x1} = \", rv.cdf(x1))\n",
        "print(f\"prob({x2} = \", rv.cdf(x2))\n",
        "print(f\"prob({x2}-{x1})\",rv.cdf(x2)-rv.cdf(x1))"
      ],
      "metadata": {
        "id": "Pay30Tegnp3j"
      },
      "execution_count": null,
      "outputs": []
    },
    {
      "cell_type": "code",
      "source": [
        "m,s = 2, np.sqrt(9)\n",
        "rv = sp.stats.norm(m,s)\n",
        "print(m,s)\n",
        "show_pdfcdf(rv,m,s)\n",
        "\n",
        "x2=1\n",
        "print(f\"prob({x1} = \", rv.cdf(x1))\n",
        "print(f\"prob({x2} = \", rv.cdf(x2))\n",
        "print(f\"prob({x2}-{x1})\",rv.cdf(x2)-rv.cdf(x1))"
      ],
      "metadata": {
        "id": "fq9cflAApXjk"
      },
      "execution_count": null,
      "outputs": []
    },
    {
      "cell_type": "code",
      "source": [
        "sample1=[5,10,17,29,14,25,16,13,9,17]\n",
        "sample2=[21,22,27,19,23,24,20,26,25,23]"
      ],
      "metadata": {
        "id": "2-SW0SM4pboL"
      },
      "execution_count": null,
      "outputs": []
    },
    {
      "cell_type": "code",
      "source": [
        "df = len(sample1)-1 #자유도 : 샘플 개수-1\n",
        "mu= np.mean(sample1)\n",
        "s=np.std(sample1)\n",
        "#표본분산\n",
        "ss = np.std(sample1)*(df+1)/df\n",
        "se = st.sem(sample1) #표본오차\n",
        "sss= ss/np.sqrt(df)\n",
        "print(\"표본평균=\", mu)\n",
        "print(\"표본표준편차=\", s)\n",
        "print(\"표준오차=\", se)\n",
        "print(\"표준오차2=\", sss)\n",
        "st.t"
      ],
      "metadata": {
        "id": "LUqF_N2ApsJU"
      },
      "execution_count": null,
      "outputs": []
    },
    {
      "cell_type": "code",
      "source": [
        "x=[10,1,10,9,8,10,5,9,7,10,1,9,9,10,2,10,10,3,9,9]\n",
        "df = len(x)-1\n",
        "print(len(x))\n",
        "x1=np.array(x)\n",
        "mean=x1.mean()\n",
        "std=x1.std()\n",
        "print(\"평균=\",mean)\n",
        "print(\"표준편차=\",std)\n"
      ],
      "metadata": {
        "id": "dOfxrMIPq2bM"
      },
      "execution_count": null,
      "outputs": []
    },
    {
      "cell_type": "code",
      "source": [
        "m,s = 70, 4.9/ np.sqrt(49)\n",
        "rv = sp.stats.norm(m,s)\n",
        "print(m,s)\n",
        "show_pdfcdf(rv,m,s)\n",
        "x1=70.7\n",
        "\n",
        "print(f\"prob({x1} = \", rv.cdf(x1))\n",
        "\n",
        "print(f\"prob({x2}-{x1})\",1-rv.cdf(x1))\n",
        "low_interval= m-1.96*s\n",
        "upper_interval= m+1.96*s\n",
        "print(f\"interval{low_interval}-{upper_interval}\")"
      ],
      "metadata": {
        "id": "lbK2iPPxtFT9"
      },
      "execution_count": null,
      "outputs": []
    },
    {
      "cell_type": "code",
      "source": [],
      "metadata": {
        "id": "UKn0jPN8uJGt"
      },
      "execution_count": null,
      "outputs": []
    }
  ]
}