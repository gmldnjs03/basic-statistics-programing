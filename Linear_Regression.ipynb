{
  "nbformat": 4,
  "nbformat_minor": 0,
  "metadata": {
    "colab": {
      "private_outputs": true,
      "provenance": [],
      "authorship_tag": "ABX9TyONhB0qQRoi2o/cylZa076y",
      "include_colab_link": true
    },
    "kernelspec": {
      "name": "python3",
      "display_name": "Python 3"
    },
    "language_info": {
      "name": "python"
    }
  },
  "cells": [
    {
      "cell_type": "markdown",
      "metadata": {
        "id": "view-in-github",
        "colab_type": "text"
      },
      "source": [
        "<a href=\"https://colab.research.google.com/github/gmldnjs03/basic-statistics-programing/blob/main/Linear_Regression.ipynb\" target=\"_parent\"><img src=\"https://colab.research.google.com/assets/colab-badge.svg\" alt=\"Open In Colab\"/></a>"
      ]
    },
    {
      "cell_type": "code",
      "execution_count": null,
      "metadata": {
        "id": "h2cl8KmLHQUh"
      },
      "outputs": [],
      "source": [
        "import matplotlib.pyplot as plt\n",
        "import numpy as np\n",
        "from random import random"
      ]
    },
    {
      "cell_type": "code",
      "source": [
        "data=[[4,6],[8,5],[12,15],[16,12],[20,20]]\n",
        "x=[4,8,12,16,20]\n",
        "y=[6,5,15,12,20]"
      ],
      "metadata": {
        "id": "7DeTsHZuN6dK"
      },
      "execution_count": null,
      "outputs": []
    },
    {
      "cell_type": "code",
      "source": [
        "data= np.array(data)\n",
        "X= np.array(data[:,0])\n",
        "Y= np.array(data[:,1])\n",
        "X1=np.zeros(5)\n",
        "Y1=np.zeros(5)"
      ],
      "metadata": {
        "id": "5csZR7RnONCa"
      },
      "execution_count": null,
      "outputs": []
    },
    {
      "cell_type": "code",
      "source": [
        "x_sum=X.sum()\n",
        "y_sum=Y.sum()\n",
        "x_avg=X.mean()\n",
        "y_avg=Y.mean()"
      ],
      "metadata": {
        "id": "vzfT0R3JOiPj"
      },
      "execution_count": null,
      "outputs": []
    },
    {
      "cell_type": "code",
      "source": [
        "sum_xy=0.0\n",
        "sum_xx2=0.0"
      ],
      "metadata": {
        "id": "DMzyz9yZOwUV"
      },
      "execution_count": null,
      "outputs": []
    },
    {
      "cell_type": "code",
      "source": [
        "for i in range(0,len(x)):\n",
        "    sum_xy += (X[i]-x_avg)*(Y[i]-y_avg)\n",
        "    sum_xx2 += (X[i]-x_avg)*(X[i]-x_avg)"
      ],
      "metadata": {
        "id": "0ELXvKxuO8A7"
      },
      "execution_count": null,
      "outputs": []
    },
    {
      "cell_type": "code",
      "source": [
        "print(x_sum,y_sum,x_avg,y_avg)\n",
        "print(sum_xy,sum_xx2)"
      ],
      "metadata": {
        "id": "M4ZYXwSlPVy0"
      },
      "execution_count": null,
      "outputs": []
    },
    {
      "cell_type": "code",
      "source": [
        "a= sum_xy/sum_xx2\n",
        "b=y_avg-a*x_avg"
      ],
      "metadata": {
        "id": "0vPHFlf2P9CS"
      },
      "execution_count": null,
      "outputs": []
    },
    {
      "cell_type": "code",
      "source": [
        "for i in range(0,len(x)):\n",
        "    Y1[i]=X[i]*a+b"
      ],
      "metadata": {
        "id": "ErhEKlyuQHJb"
      },
      "execution_count": null,
      "outputs": []
    },
    {
      "cell_type": "code",
      "source": [
        "print(a,b)"
      ],
      "metadata": {
        "id": "fFNJeZtpQURC"
      },
      "execution_count": null,
      "outputs": []
    },
    {
      "cell_type": "code",
      "source": [
        "plt.figure(\"Linear Regression\")\n",
        "plt.scatter(X,Y)\n",
        "#plt.plot(X,Y,'g--',X1,Y1,c='r')\n",
        "plt.plot(X,Y1,c='r')\n",
        "plt.show()"
      ],
      "metadata": {
        "id": "mRCve4goQXBK"
      },
      "execution_count": null,
      "outputs": []
    },
    {
      "cell_type": "code",
      "source": [
        "def predict(x,a,b):\n",
        "    y=a*x+b\n",
        "    return y\n"
      ],
      "metadata": {
        "id": "5JecCJsWbLv8"
      },
      "execution_count": null,
      "outputs": []
    },
    {
      "cell_type": "code",
      "source": [
        "predict(30,a,b)"
      ],
      "metadata": {
        "id": "DBNkX2CIbLiV"
      },
      "execution_count": null,
      "outputs": []
    },
    {
      "cell_type": "code",
      "source": [
        "x=np.array([4,8,12,16,20])\n",
        "y=np.array([6,5,15,12,20])\n",
        "a=np.vstack([x,np.ones(len(x))]).T\n",
        "print(a)\n",
        "m,c = np.linalg.lstsq(a,y,rcond=None)[0]\n",
        "print(m,c)"
      ],
      "metadata": {
        "id": "UhqIuo6MVK9I"
      },
      "execution_count": null,
      "outputs": []
    }
  ]
}