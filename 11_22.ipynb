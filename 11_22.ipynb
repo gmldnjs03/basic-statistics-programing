{
  "nbformat": 4,
  "nbformat_minor": 0,
  "metadata": {
    "colab": {
      "private_outputs": true,
      "provenance": [],
      "authorship_tag": "ABX9TyPi3rml1ZlZQzi55v+lXp2t",
      "include_colab_link": true
    },
    "kernelspec": {
      "name": "python3",
      "display_name": "Python 3"
    },
    "language_info": {
      "name": "python"
    }
  },
  "cells": [
    {
      "cell_type": "markdown",
      "metadata": {
        "id": "view-in-github",
        "colab_type": "text"
      },
      "source": [
        "<a href=\"https://colab.research.google.com/github/gmldnjs03/basic-statistics-programing/blob/main/11_22.ipynb\" target=\"_parent\"><img src=\"https://colab.research.google.com/assets/colab-badge.svg\" alt=\"Open In Colab\"/></a>"
      ]
    },
    {
      "cell_type": "code",
      "execution_count": null,
      "metadata": {
        "id": "Tj6092RXu7e5"
      },
      "outputs": [],
      "source": [
        "import numpy as np"
      ]
    },
    {
      "cell_type": "code",
      "source": [
        "A=np.array([[3.0,-1.0,2.0],[1.0,2.0,3.0],[2.0,2.0,-1.0]])\n",
        "B=np.array([[12.0],[11.0],[2.0]])"
      ],
      "metadata": {
        "id": "mph0T6CrxFsv"
      },
      "execution_count": null,
      "outputs": []
    },
    {
      "cell_type": "code",
      "source": [
        "row_index=list(range(len(A)))\n",
        "print(row_index)\n",
        "print(len(row_index))"
      ],
      "metadata": {
        "id": "WC6XbISh7ZzS"
      },
      "execution_count": null,
      "outputs": []
    },
    {
      "cell_type": "code",
      "source": [
        "col_index=len(A[0])\n",
        "print(A[0])\n",
        "print(col_index)"
      ],
      "metadata": {
        "id": "Y-4IGgR17pt7"
      },
      "execution_count": null,
      "outputs": []
    },
    {
      "cell_type": "code",
      "source": [
        "def check_matrix(a,b):\n",
        "    print(a)\n",
        "    print(\"============================\")\n",
        "    print(b)"
      ],
      "metadata": {
        "id": "iTzJpUck755E"
      },
      "execution_count": null,
      "outputs": []
    },
    {
      "cell_type": "code",
      "source": [
        "def find_rows_with_nonzero(AA,r,row_index):\n",
        "    r=0\n",
        "    for c in range(r,len(row_index)):\n",
        "        if AA[c][r] != 0.0:\n",
        "          rows_with_nonzero=c\n",
        "          pivot_number=AA[c][r]\n",
        "          break\n",
        "    print(rows_with_nonzero)\n",
        "    print(pivot_number)\n",
        "    return rows_with_nonzero"
      ],
      "metadata": {
        "id": "HlugGW4K8HuE"
      },
      "execution_count": null,
      "outputs": []
    },
    {
      "cell_type": "code",
      "source": [
        "import copy\n",
        "def change(inp_list, inp1, inp2): #열바꾸는거\n",
        "  tmp = copy.deepcopy(inp_list[inp1])\n",
        "  inp_list[inp1] = inp_list[inp2]\n",
        "  inp_list[inp2] = tmp\n",
        "  result = inp_list\n",
        "  return inp_list"
      ],
      "metadata": {
        "id": "UUQJz-JpBrT6"
      },
      "execution_count": null,
      "outputs": []
    },
    {
      "cell_type": "code",
      "source": [
        "pivot_row=np.zeros(col_index,dtype=int)\n",
        "print(pivot_row)"
      ],
      "metadata": {
        "id": "RhsDsK5G8MEd"
      },
      "execution_count": null,
      "outputs": []
    },
    {
      "cell_type": "code",
      "source": [
        "pivot_row[0]=find_rows_with_nonzero(A,0,row_index)\n",
        "print(pivot_row[0])\n",
        "pivot=A[ pivot_row[0] ][0]\n",
        "print(pivot)"
      ],
      "metadata": {
        "id": "vqdMVN-E89rD"
      },
      "execution_count": null,
      "outputs": []
    },
    {
      "cell_type": "code",
      "source": [
        "if pivot_row[0] != 0:\n",
        "  a = change(A,0,pivot_row[0])\n",
        "  b = change(B,0,pivot_row[0])\n",
        "else:\n",
        "    a=change(A,0,0)\n",
        "    b=change(B,0,0)\n",
        "check_matrix(a,b)"
      ],
      "metadata": {
        "id": "NT0ToLQuBOCw"
      },
      "execution_count": null,
      "outputs": []
    },
    {
      "cell_type": "code",
      "source": [
        "a[0] = a[0]/ pivot\n",
        "b[0] = b[0]/ pivot "
      ],
      "metadata": {
        "id": "Cta2YwycCCS5"
      },
      "execution_count": null,
      "outputs": []
    },
    {
      "cell_type": "code",
      "source": [
        "check_matrix(a,b)"
      ],
      "metadata": {
        "id": "x72TBE0GCF7g"
      },
      "execution_count": null,
      "outputs": []
    },
    {
      "cell_type": "code",
      "source": [
        "for i in range(1, len(row_index)):\n",
        "  pivot = a[i][0]\n",
        "  print(pivot)\n",
        "  a[i] = a[i] - a[0]* pivot\n",
        "  b[i] = b[i] - b[0]* pivot\n",
        "check_matrix(a,b)"
      ],
      "metadata": {
        "id": "hdI0bEFuCH8f"
      },
      "execution_count": null,
      "outputs": []
    },
    {
      "cell_type": "code",
      "source": [
        "def find_rows_with_nomazero(AA, r, row_index):\n",
        "    for c in range(r, len(row_index)):\n",
        "      if (AA[c][r] != 0.0):\n",
        "        rows_with_nonzero = c\n",
        "        pivot_number = A[c][r]\n",
        "        break\n",
        "    print(rows_with_nonzero)\n",
        "    print(pivot_number)\n",
        "    return rows_with_nonzero"
      ],
      "metadata": {
        "id": "3ksxhwvqJHQ2"
      },
      "execution_count": null,
      "outputs": []
    },
    {
      "cell_type": "code",
      "source": [
        "pivot_row[1] = find_rows_with_nomazero(a,1, row_index)\n",
        "print(pivot_row[1])\n",
        "pivot = A[pivot_row[1]][1]\n",
        "print(pivot)"
      ],
      "metadata": {
        "id": "Q1jZoPYECLPo"
      },
      "execution_count": null,
      "outputs": []
    },
    {
      "cell_type": "code",
      "source": [
        "a[1] = a[1]/ pivot\n",
        "b[1] = b[1]/ pivot \n",
        "check_matrix(a,b)"
      ],
      "metadata": {
        "id": "wolh88ILCPHH"
      },
      "execution_count": null,
      "outputs": []
    },
    {
      "cell_type": "code",
      "source": [
        "if pivot_row[1] != 1:\n",
        "  a = change(A,pivot_row[1]+1,pivot_row[1])\n",
        "  b = change(B,pivot_row[1]+1,pivot_row[1])\n"
      ],
      "metadata": {
        "id": "koCl5cbsCRvJ"
      },
      "execution_count": null,
      "outputs": []
    },
    {
      "cell_type": "code",
      "source": [
        "for i in range(2, len(row_index)):\n",
        "  pivot = a[i][1]\n",
        "  a[i] = a[i] - a[1]* pivot\n",
        "  b[i] = b[i] - b[1]* pivot\n",
        "check_matrix(a,b)"
      ],
      "metadata": {
        "id": "6Rwd8kMNCTvP"
      },
      "execution_count": null,
      "outputs": []
    },
    {
      "cell_type": "code",
      "source": [
        "def find_rows_with_nomazero(AA, r, row_index):\n",
        "    for c in range(r, len(row_index)):\n",
        "      if (AA[c][r] != 0.0):\n",
        "        rows_with_nonzero = c\n",
        "        pivot_number = A[c][r]\n",
        "        break\n",
        "    print(rows_with_nonzero)\n",
        "    print(pivot_number)\n",
        "    return rows_with_nonzero"
      ],
      "metadata": {
        "id": "XYm5FWuWjZ66"
      },
      "execution_count": null,
      "outputs": []
    },
    {
      "cell_type": "code",
      "source": [
        "pivot_row[2] = find_rows_with_nomazero(a,2, row_index)\n",
        "print(pivot_row[2])\n",
        "pivot = A[pivot_row[2]][2]\n",
        "print(pivot)"
      ],
      "metadata": {
        "id": "MGiYn3xBjawZ"
      },
      "execution_count": null,
      "outputs": []
    },
    {
      "cell_type": "code",
      "source": [
        "a[2] = a[2]/ pivot\n",
        "b[2] = b[2]/ pivot \n",
        "check_matrix(a,b)"
      ],
      "metadata": {
        "id": "MqFj6awtjduK"
      },
      "execution_count": null,
      "outputs": []
    }
  ]
}