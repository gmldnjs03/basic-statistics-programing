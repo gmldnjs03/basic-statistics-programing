{
  "nbformat": 4,
  "nbformat_minor": 0,
  "metadata": {
    "colab": {
      "private_outputs": true,
      "provenance": [],
      "authorship_tag": "ABX9TyNa1rg+7Dn+VtPcRfuQ6+bY",
      "include_colab_link": true
    },
    "kernelspec": {
      "name": "python3",
      "display_name": "Python 3"
    },
    "language_info": {
      "name": "python"
    }
  },
  "cells": [
    {
      "cell_type": "markdown",
      "metadata": {
        "id": "view-in-github",
        "colab_type": "text"
      },
      "source": [
        "<a href=\"https://colab.research.google.com/github/gmldnjs03/basic-statistics-programing/blob/main/Dice_p1ipynb.ipynb\" target=\"_parent\"><img src=\"https://colab.research.google.com/assets/colab-badge.svg\" alt=\"Open In Colab\"/></a>"
      ]
    },
    {
      "cell_type": "code",
      "execution_count": null,
      "metadata": {
        "id": "09W3dI4SQ-n5"
      },
      "outputs": [],
      "source": [
        "import math"
      ]
    },
    {
      "cell_type": "code",
      "source": [
        "def permutations_count(n,r):\n",
        "    return math.factorial(n) // math.factorial(n-r)"
      ],
      "metadata": {
        "id": "tu333PCGUshp"
      },
      "execution_count": null,
      "outputs": []
    },
    {
      "cell_type": "code",
      "source": [
        "def combination_count(n,r):\n",
        "    return math.factorial(n) // (math.factorial(n-r)*math.factorial(r))\n",
        "print(combination_count(4,2))"
      ],
      "metadata": {
        "id": "BQcSCwEMU8fx"
      },
      "execution_count": null,
      "outputs": []
    },
    {
      "cell_type": "code",
      "source": [
        "s=combination_count(7,3)\n",
        "a=combination_count(4,2)*combination_count(3,1)\n",
        "d=a/s\n",
        "print(d)"
      ],
      "metadata": {
        "id": "9VIpBhZ_VD7Y"
      },
      "execution_count": null,
      "outputs": []
    },
    {
      "cell_type": "code",
      "source": [],
      "metadata": {
        "id": "DNq2qk_rVpqw"
      },
      "execution_count": null,
      "outputs": []
    }
  ]
}