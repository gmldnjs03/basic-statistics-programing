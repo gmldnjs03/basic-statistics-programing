{
  "nbformat": 4,
  "nbformat_minor": 0,
  "metadata": {
    "colab": {
      "private_outputs": true,
      "provenance": [],
      "collapsed_sections": [],
      "authorship_tag": "ABX9TyN9COBfaUI3kUdJWh/OlY+D",
      "include_colab_link": true
    },
    "kernelspec": {
      "name": "python3",
      "display_name": "Python 3"
    },
    "language_info": {
      "name": "python"
    }
  },
  "cells": [
    {
      "cell_type": "markdown",
      "metadata": {
        "id": "view-in-github",
        "colab_type": "text"
      },
      "source": [
        "<a href=\"https://colab.research.google.com/github/gmldnjs03/basic-statistics-programing/blob/main/2022_09_20_low_pass_filter.ipynb\" target=\"_parent\"><img src=\"https://colab.research.google.com/assets/colab-badge.svg\" alt=\"Open In Colab\"/></a>"
      ]
    },
    {
      "cell_type": "code",
      "execution_count": null,
      "metadata": {
        "id": "6p2vESTUT_-C"
      },
      "outputs": [],
      "source": [
        "import numpy as np\n",
        "import matplotlib.pyplot as plt\n",
        "from scipy import io"
      ]
    },
    {
      "cell_type": "code",
      "source": [
        "input_mat=io.loadmat('/content/SonarAl.mat')"
      ],
      "metadata": {
        "id": "kmUMob3tWLG8"
      },
      "execution_count": null,
      "outputs": []
    },
    {
      "cell_type": "code",
      "source": [
        "def get_sonar(i):\n",
        "    z=input_mat['sonarAlt'][0][i]\n",
        "    return z"
      ],
      "metadata": {
        "id": "NoWxGPyaWLfU"
      },
      "execution_count": null,
      "outputs": []
    },
    {
      "cell_type": "code",
      "source": [
        "def low_pass_filter(x_meas,x_esti,m_alpha):\n",
        "    x_esti=alpha*x_esti+(1-alpha)*x_meas\n",
        "    return x_esti"
      ],
      "metadata": {
        "id": "4uByxwT4WLtk"
      },
      "execution_count": null,
      "outputs": []
    },
    {
      "cell_type": "code",
      "source": [
        "alpha=0.7\n",
        "alpha1=0.4\n",
        "n_samples=800\n",
        "time_end=10"
      ],
      "metadata": {
        "id": "itt0DiIjWL7U"
      },
      "execution_count": null,
      "outputs": []
    },
    {
      "cell_type": "code",
      "source": [
        "dt= time_end / n_samples\n",
        "time=np.arange(0,time_end, dt)\n",
        "x_meas_save=np.zeros(n_samples)\n",
        "x_esti_save=np.zeros(n_samples)\n",
        "x_meas_save1=np.zeros(n_samples)\n",
        "x_esti_save1=np.zeros(n_samples)"
      ],
      "metadata": {
        "id": "HCMu6RERWMJs"
      },
      "execution_count": null,
      "outputs": []
    },
    {
      "cell_type": "code",
      "source": [
        "x_esti=None\n",
        "for i in range(n_samples):\n",
        "    x_meas = get_sonar(i)\n",
        "    if i == 0:\n",
        "        x_esti=x_meas\n",
        "    else:\n",
        "        x_esti=low_pass_filter(x_meas,x_esti,alpha1)\n",
        "\n",
        "    x_meas_save1[i]=x_meas\n",
        "    x_esti_save1[i]=x_esti"
      ],
      "metadata": {
        "id": "V6Oeo5akddKC"
      },
      "execution_count": null,
      "outputs": []
    },
    {
      "cell_type": "code",
      "source": [
        "x_esti=None\n",
        "for i in range(n_samples):\n",
        "    x_meas = get_sonar(i)\n",
        "    if i == 0:\n",
        "        x_esti=x_meas\n",
        "    else:\n",
        "        x_esti=low_pass_filter(x_meas,x_esti,alpha)\n",
        "\n",
        "    x_meas_save[i]=x_meas\n",
        "    x_esti_save[i]=x_esti"
      ],
      "metadata": {
        "id": "TJONTJssWP0c"
      },
      "execution_count": null,
      "outputs": []
    },
    {
      "cell_type": "code",
      "source": [
        "plt.plot(time, x_meas_save, 'r*', label='Measured')\n",
        "plt.plot(time, x_esti_save, 'b-', label='Low-pass Filter')\n",
        "plt.plot(time, x_esti_save1, 'g-', label='Low-pass Filter')\n",
        "plt.legend(loc='upper left')\n",
        "plt.title('Measured Altitudes v.s. LPF Values')\n",
        "plt.xlabel('Time [sec]')\n",
        "plt.ylabel('Altitude [m]')\n",
        "plt.savefig('low_pass_filter.png')"
      ],
      "metadata": {
        "id": "TsBXxAkabsHy"
      },
      "execution_count": null,
      "outputs": []
    }
  ]
}