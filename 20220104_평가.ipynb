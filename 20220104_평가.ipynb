{
  "nbformat": 4,
  "nbformat_minor": 0,
  "metadata": {
    "colab": {
      "private_outputs": true,
      "provenance": [],
      "collapsed_sections": [],
      "include_colab_link": true
    },
    "kernelspec": {
      "name": "python3",
      "display_name": "Python 3"
    },
    "language_info": {
      "name": "python"
    }
  },
  "cells": [
    {
      "cell_type": "markdown",
      "metadata": {
        "id": "view-in-github",
        "colab_type": "text"
      },
      "source": [
        "<a href=\"https://colab.research.google.com/github/gmldnjs03/basic-statistics-programing/blob/main/20220104_%ED%8F%89%EA%B0%80.ipynb\" target=\"_parent\"><img src=\"https://colab.research.google.com/assets/colab-badge.svg\" alt=\"Open In Colab\"/></a>"
      ]
    },
    {
      "cell_type": "markdown",
      "source": [
        "#금융 데이터 활용을 위한 package 설치"
      ],
      "metadata": {
        "id": "fDzjp1H7TP3c"
      }
    },
    {
      "cell_type": "code",
      "source": [
        "!pip install -U finance-datareader\n",
        "!pip install -U pmdarima"
      ],
      "metadata": {
        "id": "ZKKC69HJSrYR"
      },
      "execution_count": null,
      "outputs": []
    },
    {
      "cell_type": "code",
      "execution_count": null,
      "metadata": {
        "id": "uUT_tsfeSgRp"
      },
      "outputs": [],
      "source": [
        "import FinanceDataReader as fdr\n",
        "import pandas as pd\n",
        "import matplotlib.pyplot as plt\n",
        "import numpy as np\n",
        "from pmdarima.arima import ndiffs\n",
        "import pmdarima as pm\n",
        "\n",
        "\n",
        "df_krx = fdr.StockListing('KRX') # 한국거래소 상장종목 전체\n",
        "ticker = df_krx[df_krx.Name=='삼성전자']['Symbol'] # 티커\n"
      ]
    },
    {
      "cell_type": "code",
      "source": [
        "ss = fdr.DataReader(''.join(ticker.values),'2020-03-01', '2021-01-30')"
      ],
      "metadata": {
        "id": "ww_7Bw7Slf0M"
      },
      "execution_count": null,
      "outputs": []
    },
    {
      "cell_type": "code",
      "source": [
        "y_train = ss['Close'][:int(0.7*len(ss))]\n",
        "y_test = ss['Close'][int(0.7*len(ss)):]\n",
        "y_train.plot()\n",
        "y_test.plot()"
      ],
      "metadata": {
        "id": "KjDlLgYXSkEk"
      },
      "execution_count": null,
      "outputs": []
    },
    {
      "cell_type": "markdown",
      "source": [
        "#문제1 : 이동 평균 기법을 사용하여 최적의 데이터를 만드세요. (이때 이동 평균의 날짜에 대한 선정 사유를 적으세요."
      ],
      "metadata": {
        "id": "393vMomlli8j"
      }
    },
    {
      "cell_type": "code",
      "source": [
        "day=[\"2020_03\",\"2020_05\",\"2020_07\",\"2020_09\",\"2020_11\",\"2021_01\"]"
      ],
      "metadata": {
        "id": "7KEhCeZRiJfG"
      },
      "execution_count": null,
      "outputs": []
    },
    {
      "cell_type": "code",
      "source": [
        "ss.info()"
      ],
      "metadata": {
        "id": "MmO3xCJOmezR"
      },
      "execution_count": null,
      "outputs": []
    },
    {
      "cell_type": "code",
      "source": [
        "ss.columns"
      ],
      "metadata": {
        "id": "7W12REvtjjY6"
      },
      "execution_count": null,
      "outputs": []
    },
    {
      "cell_type": "code",
      "source": [
        "#Your Code(Moving Average) is here\n",
        "def mov_avg_filter(x_n, x_meas):\n",
        "   \n",
        "    n = len(x_n)\n",
        "    for i in range(n-1):\n",
        "        x_n[i] = x_n[i+1]\n",
        "    x_n[n-1] = x_meas\n",
        "    x_avg = np.mean(x_n)\n",
        "    return x_avg, x_n"
      ],
      "metadata": {
        "id": "xIV7i4Pjlrmo"
      },
      "execution_count": null,
      "outputs": []
    },
    {
      "cell_type": "code",
      "source": [
        "def get_ss(self):\n",
        "    z = ss[\"Close\"][i]\n",
        "    return z"
      ],
      "metadata": {
        "id": "3NbXfCi6jEoT"
      },
      "execution_count": null,
      "outputs": []
    },
    {
      "cell_type": "code",
      "source": [
        "n = 10\n",
        "n_samples = len(ss)\n",
        "time_end = 10"
      ],
      "metadata": {
        "id": "-ZJHRPNJhYuN"
      },
      "execution_count": null,
      "outputs": []
    },
    {
      "cell_type": "code",
      "source": [
        "dt = time_end / n_samples\n",
        "time = np.arange(0,time_end, dt)\n",
        "x_meas_save = np.zeros(n_samples)\n",
        "x_avg_save = np.zeros(n_samples)"
      ],
      "metadata": {
        "id": "y3dmr1QjjNDr"
      },
      "execution_count": null,
      "outputs": []
    },
    {
      "cell_type": "code",
      "source": [
        "for i in range(n_samples):\n",
        "    x_meas = get_ss(i)\n",
        "    if i == 0:\n",
        "        x_avg, x_n = x_meas, x_meas * np.ones(n)\n",
        "    else:\n",
        "        x_avg, x_n = mov_avg_filter(x_n, x_meas)\n",
        " \n",
        "    x_meas_save[i] = x_meas\n",
        "    x_avg_save[i] = x_avg"
      ],
      "metadata": {
        "id": "VF2RgsKhjP-b"
      },
      "execution_count": null,
      "outputs": []
    },
    {
      "cell_type": "code",
      "source": [
        "plt.plot(time, x_meas_save, 'r*', label='Measured')\n",
        "plt.plot(time, x_avg_save, 'b-', label='Moving average')\n",
        "plt.legend(loc='upper left')\n",
        "plt.title('finance')\n",
        "plt.xlabel(\"day\")\n",
        "plt.ylabel('')\n",
        "plt.show()"
      ],
      "metadata": {
        "id": "T7nY1EmvjUgS"
      },
      "execution_count": null,
      "outputs": []
    },
    {
      "cell_type": "markdown",
      "source": [
        "#답 1: 이동평균값 평균 날자 선정 사유\n",
        "답:"
      ],
      "metadata": {
        "id": "D4XM9sRWl1V5"
      }
    },
    {
      "cell_type": "markdown",
      "source": [
        "#문제2 : 저주파 필터 기법을 사용하여 최적의 데이터 가공을 하세요."
      ],
      "metadata": {
        "id": "0T73-CdrmLot"
      }
    },
    {
      "cell_type": "code",
      "source": [
        "#Your Code(Low Pass Filter) is here\n",
        "def low_pass_filter(x_meas,x_esti,m_alpha):\n",
        "    x_esti=alpha*x_esti+(1-m_alpha)*x_meas\n",
        "    return x_esti"
      ],
      "metadata": {
        "id": "DVgKXIxRmU1z"
      },
      "execution_count": null,
      "outputs": []
    },
    {
      "cell_type": "code",
      "source": [
        "data=ss[\"Close\"]"
      ],
      "metadata": {
        "id": "1CPffsxct-re"
      },
      "execution_count": null,
      "outputs": []
    },
    {
      "cell_type": "code",
      "source": [
        "alpha=0.7\n",
        "n_samples=len(ss)\n",
        "time_end=10"
      ],
      "metadata": {
        "id": "0_c8OE94tnhe"
      },
      "execution_count": null,
      "outputs": []
    },
    {
      "cell_type": "code",
      "source": [
        "dt= time_end / n_samples\n",
        "time=np.arange(0,time_end, dt)\n",
        "x_meas_save=np.zeros(n_samples)\n",
        "x_esti_save=np.zeros(n_samples)"
      ],
      "metadata": {
        "id": "_mCX5N3ptpIF"
      },
      "execution_count": null,
      "outputs": []
    },
    {
      "cell_type": "code",
      "source": [
        "x_esti=None\n",
        "for i in range(n_samples):\n",
        "    x_meas = data[i]\n",
        "    if i == 0:\n",
        "        x_esti=x_meas\n",
        "    else:\n",
        "        x_esti=low_pass_filter(x_meas,x_esti,alpha)\n",
        "\n",
        "    x_meas_save[i]=x_meas\n",
        "    x_esti_save[i]=x_esti"
      ],
      "metadata": {
        "id": "s1PWzX7StqsO"
      },
      "execution_count": null,
      "outputs": []
    },
    {
      "cell_type": "code",
      "source": [
        "plt.plot(time, x_meas_save, 'r*', label='Measured')\n",
        "plt.plot(time, x_esti_save, 'b-', label='Low-pass Filter')\n",
        "plt.legend(loc='upper left')\n",
        "plt.title('Measured Altitudes v.s. LPF Values')\n",
        "plt.xlabel('Time [sec]')\n",
        "plt.ylabel('Altitude [m]')\n",
        "plt.savefig('low_pass_filter.png')"
      ],
      "metadata": {
        "id": "QC6FAHlQtsat"
      },
      "execution_count": null,
      "outputs": []
    },
    {
      "cell_type": "markdown",
      "source": [
        "#답 2:  변수 선정 사유에 대한 근거를 제시하세요\n"
      ],
      "metadata": {
        "id": "MIwBaf-umcVM"
      }
    },
    {
      "cell_type": "markdown",
      "source": [
        "#문제3 : 선형회기를 사용하여 2022.03.01의 값을 예측하세요."
      ],
      "metadata": {
        "id": "VnMZsqk5mcYC"
      }
    },
    {
      "cell_type": "code",
      "source": [
        "#Your Code(Linear Regression) is here\n",
        "ss = [ [\"Open\",\"Close\"] ]\n",
        "x = [\"Open\"]\n",
        "y = [\"Close\"]"
      ],
      "metadata": {
        "id": "YNtAFCUimx7Z"
      },
      "execution_count": null,
      "outputs": []
    },
    {
      "cell_type": "code",
      "source": [
        "SS=np.array(ss)\n",
        "X=np.array(SS[:,0])\n",
        "Y=np.array(SS[:,1])\n",
        "X1 = np.zeros(228)\n",
        "Y1 = np.zeros(228)"
      ],
      "metadata": {
        "id": "qiT4NtuQUOaj"
      },
      "execution_count": null,
      "outputs": []
    },
    {
      "cell_type": "code",
      "source": [
        "x_sum=X.sum()\n",
        "y_sum = Y.sum()\n",
        "x_avg = X.mean()\n",
        "y_avg = Y.mean()"
      ],
      "metadata": {
        "id": "S5jVVcBMUOxU"
      },
      "execution_count": null,
      "outputs": []
    },
    {
      "cell_type": "code",
      "source": [
        "sum_xy = 0.0 \n",
        "sum_xx2 = 0.0"
      ],
      "metadata": {
        "id": "GalJn5cLUPK0"
      },
      "execution_count": null,
      "outputs": []
    },
    {
      "cell_type": "code",
      "source": [
        "for i in range(0,len(X)):\n",
        "    sum_xy  += (X[i]-  x_avg) * (Y[i]-  y_avg)    \n",
        "    sum_xx2 += (X[i]-  x_avg) * (X[i]-  x_avg)"
      ],
      "metadata": {
        "id": "IH7oRFCnUPif"
      },
      "execution_count": null,
      "outputs": []
    },
    {
      "cell_type": "code",
      "source": [
        "print(x_sum,y_sum,x_avg,y_avg)\n",
        "print(sum_xy,sum_xx2) \n"
      ],
      "metadata": {
        "id": "RBiuHjXzUP48"
      },
      "execution_count": null,
      "outputs": []
    },
    {
      "cell_type": "code",
      "source": [
        "a = sum_xy/sum_xx2\n",
        "b = y_avg  - a*x_avg"
      ],
      "metadata": {
        "id": "V6aiAeaNYgon"
      },
      "execution_count": null,
      "outputs": []
    },
    {
      "cell_type": "code",
      "source": [
        "for i in range(0,len(X)):     \n",
        "     Y1[i] = X[i]*a+b\n",
        "\u000bprint(a,b)\n"
      ],
      "metadata": {
        "id": "Cdz5cfqtYqID"
      },
      "execution_count": null,
      "outputs": []
    },
    {
      "cell_type": "code",
      "source": [
        "plt.figure(\"Linear Regression\")\n",
        "plt.scatter(X,Y)\n",
        "#plt.plot(X,Y, 'g--', X1,Y1, c='r')\n",
        "plt.plot(X,Y1, c='r')\n",
        "plt.show()"
      ],
      "metadata": {
        "id": "n1UHbwbsUQL1"
      },
      "execution_count": null,
      "outputs": []
    },
    {
      "cell_type": "markdown",
      "source": [
        "#답 3 :"
      ],
      "metadata": {
        "id": "14xy5X2em2iC"
      }
    }
  ]
}