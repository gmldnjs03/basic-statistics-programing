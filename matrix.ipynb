{
  "nbformat": 4,
  "nbformat_minor": 0,
  "metadata": {
    "colab": {
      "private_outputs": true,
      "provenance": [],
      "authorship_tag": "ABX9TyPE8+ijngJ8QOkBjC7VC5hc",
      "include_colab_link": true
    },
    "kernelspec": {
      "name": "python3",
      "display_name": "Python 3"
    },
    "language_info": {
      "name": "python"
    }
  },
  "cells": [
    {
      "cell_type": "markdown",
      "metadata": {
        "id": "view-in-github",
        "colab_type": "text"
      },
      "source": [
        "<a href=\"https://colab.research.google.com/github/gmldnjs03/basic-statistics-programing/blob/main/matrix.ipynb\" target=\"_parent\"><img src=\"https://colab.research.google.com/assets/colab-badge.svg\" alt=\"Open In Colab\"/></a>"
      ]
    },
    {
      "cell_type": "code",
      "execution_count": null,
      "metadata": {
        "id": "RQIWF4UUVWAC"
      },
      "outputs": [],
      "source": [
        "import numpy as np"
      ]
    },
    {
      "cell_type": "code",
      "source": [
        "d_array=np.array([[2,5],\n",
        "                  [1,3]])\n",
        "print(d_array)"
      ],
      "metadata": {
        "id": "zmBrzeFNVeSg"
      },
      "execution_count": null,
      "outputs": []
    },
    {
      "cell_type": "code",
      "source": [
        "d_array_det=np.linalg.det(d_array)"
      ],
      "metadata": {
        "id": "gQc9QSVrVt73"
      },
      "execution_count": null,
      "outputs": []
    },
    {
      "cell_type": "code",
      "source": [
        "print(d_array_det)"
      ],
      "metadata": {
        "id": "9g9Od780WBJ3"
      },
      "execution_count": null,
      "outputs": []
    },
    {
      "cell_type": "code",
      "source": [
        "d_array_inv=np.linalg.inv(d_array)"
      ],
      "metadata": {
        "id": "y3GvjDWQWQCn"
      },
      "execution_count": null,
      "outputs": []
    },
    {
      "cell_type": "code",
      "source": [
        "print(d_array_inv)"
      ],
      "metadata": {
        "id": "aqOk5ZElWivX"
      },
      "execution_count": null,
      "outputs": []
    },
    {
      "cell_type": "code",
      "source": [
        "print(np.eye(3))"
      ],
      "metadata": {
        "id": "miXy7axeXVL1"
      },
      "execution_count": null,
      "outputs": []
    },
    {
      "cell_type": "code",
      "source": [
        "print(np.transpose(d_array))\n",
        "print(d_array.transpose())\n",
        "print(d_array.T)"
      ],
      "metadata": {
        "id": "D5mvwojuXqBl"
      },
      "execution_count": null,
      "outputs": []
    },
    {
      "cell_type": "code",
      "source": [
        "x=np.arange(9).reshape(3,3)\n",
        "print(x)"
      ],
      "metadata": {
        "id": "bImJEnFHYigf"
      },
      "execution_count": null,
      "outputs": []
    },
    {
      "cell_type": "code",
      "source": [
        "np.diag(x)"
      ],
      "metadata": {
        "id": "HP-YENzJYtrF"
      },
      "execution_count": null,
      "outputs": []
    },
    {
      "cell_type": "code",
      "source": [
        "np.diag(np.diag(x))"
      ],
      "metadata": {
        "id": "ZGB6rRwEYxHG"
      },
      "execution_count": null,
      "outputs": []
    },
    {
      "cell_type": "code",
      "source": [
        "a= np.arange(4).reshape(2,2)\n",
        "print(a)\n",
        "print(a*a)\n",
        "\n",
        "np.dot(a,a)"
      ],
      "metadata": {
        "id": "qL9O7sc8ZV6O"
      },
      "execution_count": null,
      "outputs": []
    },
    {
      "cell_type": "code",
      "source": [
        "b= np.arange(16).reshape(4,4)\n",
        "print(b)\n",
        "np.trace(b)"
      ],
      "metadata": {
        "id": "JDRxI6cNZ4Zt"
      },
      "execution_count": null,
      "outputs": []
    },
    {
      "cell_type": "code",
      "source": [
        "a=np.array([[4,3],[3,2]])\n",
        "b=np.array([23,16])\n"
      ],
      "metadata": {
        "id": "ncLjliruabks"
      },
      "execution_count": null,
      "outputs": []
    }
  ]
}