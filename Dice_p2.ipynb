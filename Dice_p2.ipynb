{
  "nbformat": 4,
  "nbformat_minor": 0,
  "metadata": {
    "colab": {
      "private_outputs": true,
      "provenance": [],
      "authorship_tag": "ABX9TyM4QB1jYSXSzW3wgQysbyml",
      "include_colab_link": true
    },
    "kernelspec": {
      "name": "python3",
      "display_name": "Python 3"
    },
    "language_info": {
      "name": "python"
    }
  },
  "cells": [
    {
      "cell_type": "markdown",
      "metadata": {
        "id": "view-in-github",
        "colab_type": "text"
      },
      "source": [
        "<a href=\"https://colab.research.google.com/github/gmldnjs03/basic-statistics-programing/blob/main/Dice_p2.ipynb\" target=\"_parent\"><img src=\"https://colab.research.google.com/assets/colab-badge.svg\" alt=\"Open In Colab\"/></a>"
      ]
    },
    {
      "cell_type": "code",
      "execution_count": null,
      "metadata": {
        "id": "Hmm06WQfV12l"
      },
      "outputs": [],
      "source": [
        "import math"
      ]
    },
    {
      "cell_type": "code",
      "source": [
        "s={1,2,3,4,5,6}\n",
        "print(len(s))\n",
        "a={2,4,6}\n",
        "b={5,6}\n",
        "ab={6}"
      ],
      "metadata": {
        "id": "PipqH9yfXfbY"
      },
      "execution_count": null,
      "outputs": []
    },
    {
      "cell_type": "code",
      "source": [
        "def n(event):\n",
        "    return len(event)"
      ],
      "metadata": {
        "id": "lLghOHVeXl-4"
      },
      "execution_count": null,
      "outputs": []
    },
    {
      "cell_type": "code",
      "source": [
        "n(s)"
      ],
      "metadata": {
        "id": "_tXZwfgyXu-J"
      },
      "execution_count": null,
      "outputs": []
    },
    {
      "cell_type": "code",
      "source": [
        "D=(n(a)/n(s)+n(b)/n(s))/n(ab)\n",
        "print(D)"
      ],
      "metadata": {
        "id": "BlltQYf1X7Kn"
      },
      "execution_count": null,
      "outputs": []
    },
    {
      "cell_type": "code",
      "source": [
        "c={1,2}\n",
        "d={5,6}\n",
        "\n",
        "di=n(c)/n(s)+n(d)/n(s)\n",
        "print(di)"
      ],
      "metadata": {
        "id": "a-56RmO9YQNx"
      },
      "execution_count": null,
      "outputs": []
    }
  ]
}