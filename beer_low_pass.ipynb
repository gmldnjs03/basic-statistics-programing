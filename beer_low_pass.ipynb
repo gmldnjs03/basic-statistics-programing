{
  "nbformat": 4,
  "nbformat_minor": 0,
  "metadata": {
    "colab": {
      "private_outputs": true,
      "provenance": [],
      "authorship_tag": "ABX9TyMJQSVDcB+isr3xcMwog5Db",
      "include_colab_link": true
    },
    "kernelspec": {
      "name": "python3",
      "display_name": "Python 3"
    },
    "language_info": {
      "name": "python"
    }
  },
  "cells": [
    {
      "cell_type": "markdown",
      "metadata": {
        "id": "view-in-github",
        "colab_type": "text"
      },
      "source": [
        "<a href=\"https://colab.research.google.com/github/gmldnjs03/basic-statistics-programing/blob/main/beer_low_pass.ipynb\" target=\"_parent\"><img src=\"https://colab.research.google.com/assets/colab-badge.svg\" alt=\"Open In Colab\"/></a>"
      ]
    },
    {
      "cell_type": "code",
      "execution_count": null,
      "metadata": {
        "id": "pGsRomWgiD7g"
      },
      "outputs": [],
      "source": [
        "import pandas as pd\n",
        "import numpy as np\n",
        "import matplotlib.pyplot as plt"
      ]
    },
    {
      "cell_type": "code",
      "source": [
        "data = pd.read_csv(\"https://raw.githubusercontent.com/jamesrobertlloyd/gp-structure-search/master/data/raw/TSDL/monthly-beer-production-in-austr.csv\",sep=',' )"
      ],
      "metadata": {
        "id": "_U0IDtCTiolP"
      },
      "execution_count": null,
      "outputs": []
    },
    {
      "cell_type": "code",
      "source": [
        "data1 = data[\"Monthly beer production in Australia: megalitres. Includes ale and stout. Does not include beverages with alcohol percentage less than 1.15. Jan 1956 ? Aug 1995\"]"
      ],
      "metadata": {
        "id": "yGR61A3lip1W"
      },
      "execution_count": null,
      "outputs": []
    },
    {
      "cell_type": "code",
      "source": [],
      "metadata": {
        "id": "u0hMXPRQlgQW"
      },
      "execution_count": null,
      "outputs": []
    },
    {
      "cell_type": "code",
      "source": [
        "print(data1)\n",
        "#총 0-475까지 데이터 가 있음을 확인\n",
        "\n",
        "print(data1[0])"
      ],
      "metadata": {
        "id": "WhM4Oqski1E3"
      },
      "execution_count": null,
      "outputs": []
    },
    {
      "cell_type": "code",
      "source": [
        "def low_pass_filter(x_meas,x_esti,m_alpha):\n",
        "    x_esti=alpha*x_esti+(1-m_alpha)*x_meas\n",
        "    return x_esti"
      ],
      "metadata": {
        "id": "8UEDCuBujFXg"
      },
      "execution_count": null,
      "outputs": []
    },
    {
      "cell_type": "code",
      "source": [
        "alpha=0.7\n",
        "n_samples=475\n",
        "time_end=10"
      ],
      "metadata": {
        "id": "00tbEZ9hjKMZ"
      },
      "execution_count": null,
      "outputs": []
    },
    {
      "cell_type": "code",
      "source": [
        "dt= time_end / n_samples\n",
        "time=np.arange(0,time_end, dt)\n",
        "x_meas_save=np.zeros(n_samples)\n",
        "x_esti_save=np.zeros(n_samples)"
      ],
      "metadata": {
        "id": "vAHJBtJhjNl3"
      },
      "execution_count": null,
      "outputs": []
    },
    {
      "cell_type": "code",
      "source": [
        "x_esti=None\n",
        "for i in range(n_samples):\n",
        "    x_meas = data1[i]\n",
        "    if i == 0:\n",
        "        x_esti=x_meas\n",
        "    else:\n",
        "        x_esti=low_pass_filter(x_meas,x_esti,alpha)\n",
        "\n",
        "    x_meas_save[i]=x_meas\n",
        "    x_esti_save[i]=x_esti"
      ],
      "metadata": {
        "id": "KbO6Teo3jOWn"
      },
      "execution_count": null,
      "outputs": []
    },
    {
      "cell_type": "code",
      "source": [
        "plt.plot(time, x_meas_save, 'r*', label='Measured')\n",
        "plt.plot(time, x_esti_save, 'b-', label='Low-pass Filter')\n",
        "plt.legend(loc='upper left')\n",
        "plt.title('Measured Altitudes v.s. LPF Values')\n",
        "plt.xlabel('Time [sec]')\n",
        "plt.ylabel('Altitude [m]')\n",
        "plt.savefig('low_pass_filter.png')"
      ],
      "metadata": {
        "id": "_nP9nPhejQ1-"
      },
      "execution_count": null,
      "outputs": []
    }
  ]
}