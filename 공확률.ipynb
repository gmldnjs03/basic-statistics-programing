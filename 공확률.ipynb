{
  "nbformat": 4,
  "nbformat_minor": 0,
  "metadata": {
    "colab": {
      "private_outputs": true,
      "provenance": [],
      "authorship_tag": "ABX9TyMkThVIM3FvnvlBFvIt81IG",
      "include_colab_link": true
    },
    "kernelspec": {
      "name": "python3",
      "display_name": "Python 3"
    },
    "language_info": {
      "name": "python"
    }
  },
  "cells": [
    {
      "cell_type": "markdown",
      "metadata": {
        "id": "view-in-github",
        "colab_type": "text"
      },
      "source": [
        "<a href=\"https://colab.research.google.com/github/gmldnjs03/basic-statistics-programing/blob/main/%EA%B3%B5%ED%99%95%EB%A5%A0.ipynb\" target=\"_parent\"><img src=\"https://colab.research.google.com/assets/colab-badge.svg\" alt=\"Open In Colab\"/></a>"
      ]
    },
    {
      "cell_type": "code",
      "execution_count": null,
      "metadata": {
        "id": "8881PucfgRAV"
      },
      "outputs": [],
      "source": [
        "import sys\n",
        "print(sys.version)"
      ]
    },
    {
      "cell_type": "code",
      "source": [
        "import math"
      ],
      "metadata": {
        "id": "-QjYCBGngWiz"
      },
      "execution_count": null,
      "outputs": []
    },
    {
      "cell_type": "code",
      "source": [
        "2print(\"n을 입력하세요\")\n",
        "n=int(input())\n",
        "if n > 4:\n",
        "    print(\"다시입력하세요\")\n",
        "    n=int(input())"
      ],
      "metadata": {
        "id": "N1nf8GhEgaW6"
      },
      "execution_count": null,
      "outputs": []
    },
    {
      "cell_type": "code",
      "source": [
        "def combination_count(n,r):\n",
        "    return math.factorial(n) // (math.factorial(n-r)*math.factorial(r))"
      ],
      "metadata": {
        "id": "Yh86Ezmmghni"
      },
      "execution_count": null,
      "outputs": []
    },
    {
      "cell_type": "code",
      "source": [
        "p=combination_count(4,int(n))/(2*2*2)\n",
        "print(p)"
      ],
      "metadata": {
        "id": "rLxUolC0gh0i"
      },
      "execution_count": null,
      "outputs": []
    },
    {
      "cell_type": "code",
      "source": [
        "print(\"빨간공 r개 파란공 b개가 들어있는 주머니에서 n개의 공 꺼내려고 한다. \")\n",
        "print(\"뽑힌 공 중 파란공의 개수를 확률 변수 X라고 했을 때 X의 확률분포를 구하라 \")"
      ],
      "metadata": {
        "id": "ul5BbutFglvy"
      },
      "execution_count": null,
      "outputs": []
    },
    {
      "cell_type": "code",
      "source": [
        "b=0\n",
        "r=0\n",
        "n=0\n",
        "x=0.0\n",
        "print(\"빨간공의 개수를 입력하세요\")\n",
        "r=int(input())\n",
        "print(\"파란공의 개수를 입력하세요\")\n",
        "b=int(input())\n",
        "print(\"꺼낸 공의 개수를 입력하세요\")\n",
        "n=int(input())"
      ],
      "metadata": {
        "id": "79VFYqdphmlk"
      },
      "execution_count": null,
      "outputs": []
    },
    {
      "cell_type": "code",
      "source": [
        "def combination_count(n,r):\n",
        "    return math.factorial(n) // (math.factorial(n-r)*math.factorial(r))"
      ],
      "metadata": {
        "id": "Yl7qaBWUj3p6"
      },
      "execution_count": null,
      "outputs": []
    },
    {
      "cell_type": "code",
      "source": [
        "sum=0\n",
        "avg=0\n",
        "var=0\n",
        "for i in range(n+1):\n",
        "    result= combination_count(r,n-i) * combination_count(b,i) / combination_count(r+b,n)\n",
        "    sum +=result\n",
        "    avg += result*i\n",
        "    \n",
        "    print(\"p(\",i,\")=\",result)\n",
        "print(\"Psum=\",sum)\n",
        "print(\"avg=\",avg)\n",
        "\n",
        "for i in range(n+1):\n",
        "    result= combination_count(r,n-i) * combination_count(b,i) / combination_count(r+b,n)\n",
        "    var +=(i-avg)*(i-avg)*result\n",
        "print(\"var=\",var)"
      ],
      "metadata": {
        "id": "k7yOUhsUicsS"
      },
      "execution_count": null,
      "outputs": []
    }
  ]
}