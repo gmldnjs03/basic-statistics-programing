{
  "nbformat": 4,
  "nbformat_minor": 0,
  "metadata": {
    "colab": {
      "private_outputs": true,
      "provenance": [],
      "authorship_tag": "ABX9TyOuWSziLm6j4RUyD+891c5c",
      "include_colab_link": true
    },
    "kernelspec": {
      "name": "python3",
      "display_name": "Python 3"
    },
    "language_info": {
      "name": "python"
    }
  },
  "cells": [
    {
      "cell_type": "markdown",
      "metadata": {
        "id": "view-in-github",
        "colab_type": "text"
      },
      "source": [
        "<a href=\"https://colab.research.google.com/github/gmldnjs03/basic-statistics-programing/blob/main/11_15.ipynb\" target=\"_parent\"><img src=\"https://colab.research.google.com/assets/colab-badge.svg\" alt=\"Open In Colab\"/></a>"
      ]
    },
    {
      "cell_type": "code",
      "source": [
        "import pandas as pd\n",
        "import numpy as np\n",
        "import matplotlib.pyplot as plt"
      ],
      "metadata": {
        "id": "0H2NbfI22Gk_"
      },
      "execution_count": null,
      "outputs": []
    },
    {
      "cell_type": "code",
      "execution_count": null,
      "metadata": {
        "id": "_d2FNaiJvTwp"
      },
      "outputs": [],
      "source": [
        "x=[0,2,4,6]\n",
        "y=[0,2,4,6]\n",
        "z=[[1,2,3,4],\n",
        "   [5,6,7,8],\n",
        "   [9,10,11,12],\n",
        "   [13,14,15,16]]"
      ]
    },
    {
      "cell_type": "code",
      "source": [
        "x[1]"
      ],
      "metadata": {
        "id": "KFc9Nbq3vj2h"
      },
      "execution_count": null,
      "outputs": []
    },
    {
      "cell_type": "code",
      "source": [
        "z[3][2]"
      ],
      "metadata": {
        "id": "4IqlsHVEvndI"
      },
      "execution_count": null,
      "outputs": []
    },
    {
      "cell_type": "code",
      "source": [
        "def find_x_index(x,input_x):\n",
        "  for i in range(0,len(x)-1):\n",
        "     #print(i)\n",
        "     if (x[i]<=input_x) & (x[i+1]>input_x):\n",
        "         x_min_index=i\n",
        "         x_max_index=i+1\n",
        "         print(x_min_index,\"~\",x_max_index)\n",
        "  return x_min_index,x_max_index"
      ],
      "metadata": {
        "id": "PfnFkkdvwC54"
      },
      "execution_count": null,
      "outputs": []
    },
    {
      "cell_type": "code",
      "source": [
        "input_x = 2.3\n",
        "xmin_index,xmax_index=find_x_index(x,input_x)"
      ],
      "metadata": {
        "id": "JVfMTop2xaFX"
      },
      "execution_count": null,
      "outputs": []
    },
    {
      "cell_type": "code",
      "source": [
        "def find_y_index(y,input_y):\n",
        "  for i in range(0,len(y)-1):\n",
        "     #print(i)\n",
        "     if (y[i]<=input_y) & (y[i+1]>input_y):\n",
        "         y_min_index=i\n",
        "         y_max_index=i+1\n",
        "         print(y_min_index,\"~\",y_max_index)\n",
        "  return y_min_index,y_max_index"
      ],
      "metadata": {
        "id": "H1TywsJuxte3"
      },
      "execution_count": null,
      "outputs": []
    },
    {
      "cell_type": "code",
      "source": [
        "input_y = 2.3\n",
        "ymin_index,ymax_index=find_y_index(y,input_y)"
      ],
      "metadata": {
        "id": "J4s3KAt0x2Rv"
      },
      "execution_count": null,
      "outputs": []
    },
    {
      "cell_type": "code",
      "source": [
        "def map_2D(x1,y1,z1, x2,y2,z2, x3,y3,z3, x4,y4,z4, x_input,y_input):\n",
        "    h1=(y_input-y1)/(y2-y1)\n",
        "    h2=(y2-y_input)/(y2-y1)\n",
        "    m= h1*z2*h2*z1\n",
        "    print(\"h1=\",h1, \"h2=\",h2,\"m=\",m)\n",
        "\n",
        "    h3=(y_input-y3)/(y4-y3)\n",
        "    h4=(y4-y_input)/(y4-y3)\n",
        "    n=h4*z3*h3*z4\n",
        "    print(\"h3=\",h3, \"h4=\",h4,\"n=\",m)\n",
        "   \n",
        "    v1=(x_input-x1)/(x3-x1)\n",
        "    v2=(x3-x_input)/(x3-x1)\n",
        "    p=m*v2+n*v1\n",
        "    print(\"v1=\",v1, \"v2=\",v2,\"p=\",p)\n",
        "    return p"
      ],
      "metadata": {
        "id": "YcP4rm4g2eh_"
      },
      "execution_count": null,
      "outputs": []
    },
    {
      "cell_type": "code",
      "source": [
        "input_x=2.2\n",
        "input_y=4.3\n",
        "xmin_index,xmax_index=find_x_index(x,input_x)\n",
        "ymin_index,ymax_index=find_y_index(y,input_y)\n",
        "data= map_2D(x[xmin_index],y[ymin_index],z[xmin_index][ymin_index], \n",
        "           x[xmin_index],y[ymax_index],z[xmin_index][ymax_index], \n",
        "           x[xmax_index],y[ymin_index],z[xmax_index][ymin_index], \n",
        "           x[xmax_index],y[ymax_index],z[xmax_index][ymax_index], \n",
        "           input_x,input_y)\n",
        "print(data)"
      ],
      "metadata": {
        "id": "QjGhNOKE0OLf"
      },
      "execution_count": null,
      "outputs": []
    }
  ]
}