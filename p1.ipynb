{
  "nbformat": 4,
  "nbformat_minor": 0,
  "metadata": {
    "colab": {
      "private_outputs": true,
      "provenance": [],
      "authorship_tag": "ABX9TyNtt0Pq0gpDPXKFI0Du0gxq",
      "include_colab_link": true
    },
    "kernelspec": {
      "name": "python3",
      "display_name": "Python 3"
    },
    "language_info": {
      "name": "python"
    }
  },
  "cells": [
    {
      "cell_type": "markdown",
      "metadata": {
        "id": "view-in-github",
        "colab_type": "text"
      },
      "source": [
        "<a href=\"https://colab.research.google.com/github/gmldnjs03/basic-statistics-programing/blob/main/p1.ipynb\" target=\"_parent\"><img src=\"https://colab.research.google.com/assets/colab-badge.svg\" alt=\"Open In Colab\"/></a>"
      ]
    },
    {
      "cell_type": "code",
      "execution_count": null,
      "metadata": {
        "id": "3CpE_UqRZzqT"
      },
      "outputs": [],
      "source": [
        "import math"
      ]
    },
    {
      "cell_type": "code",
      "source": [
        "def combination_count(n,r):\n",
        "    return math.factorial(n) // (math.factorial(n-r)*math.factorial(r))\n"
      ],
      "metadata": {
        "id": "x9oxb8AmaNNA"
      },
      "execution_count": null,
      "outputs": []
    },
    {
      "cell_type": "code",
      "source": [
        "s=combination_count(15,2)\n",
        "b=combination_count(8,2)\n",
        "d=1-b/s\n",
        "print(d)"
      ],
      "metadata": {
        "id": "UurUuGSFaPP4"
      },
      "execution_count": null,
      "outputs": []
    }
  ]
}