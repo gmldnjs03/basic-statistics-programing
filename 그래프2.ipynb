{
  "nbformat": 4,
  "nbformat_minor": 0,
  "metadata": {
    "colab": {
      "private_outputs": true,
      "provenance": [],
      "authorship_tag": "ABX9TyO5+om+yGBuYiCEbFIUQgfu",
      "include_colab_link": true
    },
    "kernelspec": {
      "name": "python3",
      "display_name": "Python 3"
    },
    "language_info": {
      "name": "python"
    }
  },
  "cells": [
    {
      "cell_type": "markdown",
      "metadata": {
        "id": "view-in-github",
        "colab_type": "text"
      },
      "source": [
        "<a href=\"https://colab.research.google.com/github/gmldnjs03/basic-statistics-programing/blob/main/%EA%B7%B8%EB%9E%98%ED%94%842.ipynb\" target=\"_parent\"><img src=\"https://colab.research.google.com/assets/colab-badge.svg\" alt=\"Open In Colab\"/></a>"
      ]
    },
    {
      "cell_type": "code",
      "execution_count": null,
      "metadata": {
        "id": "tgubD6t7x_Ax"
      },
      "outputs": [],
      "source": [
        "import numpy as np\n",
        "import matplotlib.pyplot as plt\n",
        "from scipy.special import erf\n",
        "\n",
        "np.random.seed(0)\n",
        "\n",
        "plt.style.use(\"default\")\n",
        "plt.rcParams[\"figure.figsize\"]=(6,3)\n",
        "plt.rcParams[\"font.size\"]=12\n",
        "plt.rcParams[\"lines.linewidth\"]=5\n",
        "mu1,sigma1=0.0,1.0\n",
        "mu2,sigma2=1.5,1.5\n",
        "mu3,sigma3=3.0,2.0\n",
        "\n",
        "x=np.linspace(-8,8,1000)\n",
        "y1=(1/np.sqrt(2*np.pi*sigma1**2))*np.exp(-(x-mu1)**2/(2*sigma1**2))\n",
        "y2=(1/np.sqrt(2*np.pi*sigma2**2))*np.exp(-(x-mu2)**2/(2*sigma2**2))\n",
        "y3=(1/np.sqrt(2*np.pi*sigma3**2))*np.exp(-(x-mu3)**2/(2*sigma3**2))\n",
        "\n",
        "y_sum1=0.5*(1+erf((x-mu1)/np.sqrt(2*sigma1**2)))\n",
        "y_sum2=0.5*(1+erf((x-mu2)/np.sqrt(2*sigma2**2)))\n",
        "y_sum3=0.5*(1+erf((x-mu3)/np.sqrt(2*sigma3**2)))\n",
        "\n",
        "plt.plot(x,y1,alpha=0.7, label=r\"PDF of N(0,$1^2$)\")\n",
        "plt.plot(x,y2,alpha=0.7, label=r\"PDF of N(1.5,$1.5^2$)\")\n",
        "plt.plot(x,y3,alpha=0.7, label=r\"PDF of N(3.0,$2.0^2$)\")\n",
        "\n",
        "plt.plot(x,y_sum1,alpha=0.7, label=\"CDF of N(0,$1^2$)\")\n",
        "plt.plot(x,y_sum2,alpha=0.7, label=\"CDF of N(1.5,$1.5^2$)\")\n",
        "plt.plot(x,y_sum3,alpha=0.7, label=\"CDF of N(3.0,$2.0^2$)\")\n",
        "\n",
        "plt.xlabel(\"x\")\n",
        "plt.ylabel(\"f(x)\")\n",
        "plt.legend(bbox_to_anchor=(1.0,-0.2))\n",
        "plt.show()"
      ]
    }
  ]
}