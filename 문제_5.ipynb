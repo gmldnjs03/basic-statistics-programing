{
  "nbformat": 4,
  "nbformat_minor": 0,
  "metadata": {
    "colab": {
      "private_outputs": true,
      "provenance": [],
      "authorship_tag": "ABX9TyOb1k6WVet3BMtk1bhDvjuo",
      "include_colab_link": true
    },
    "kernelspec": {
      "name": "python3",
      "display_name": "Python 3"
    },
    "language_info": {
      "name": "python"
    }
  },
  "cells": [
    {
      "cell_type": "markdown",
      "metadata": {
        "id": "view-in-github",
        "colab_type": "text"
      },
      "source": [
        "<a href=\"https://colab.research.google.com/github/gmldnjs03/basic-statistics-programing/blob/main/%EB%AC%B8%EC%A0%9C_5.ipynb\" target=\"_parent\"><img src=\"https://colab.research.google.com/assets/colab-badge.svg\" alt=\"Open In Colab\"/></a>"
      ]
    },
    {
      "cell_type": "code",
      "execution_count": null,
      "metadata": {
        "id": "9qnXh4byKQYu"
      },
      "outputs": [],
      "source": [
        "import numpy as np\n",
        "import copy"
      ]
    },
    {
      "cell_type": "code",
      "source": [
        "a = np.array([[4.0, 8.0, 0.0, -4.0], [3.0, 2.0, 0.0, 1.0], [1.0, 3.0,1.0, 1.0],[-2.0,1.0,5.0,6.0]])\n",
        "b = np.array([[-4.0], [2.0], [2.0],[5.0]])"
      ],
      "metadata": {
        "id": "KSz2SXG3KUr4"
      },
      "execution_count": null,
      "outputs": []
    },
    {
      "cell_type": "code",
      "source": [
        "def check(a, b):\n",
        "    print(a)\n",
        "    print('=================')\n",
        "    print(b)"
      ],
      "metadata": {
        "id": "xpdBawSsKX2L"
      },
      "execution_count": null,
      "outputs": []
    },
    {
      "cell_type": "code",
      "source": [
        "def find_rows_with_nonzero(AA,r,row_index):\n",
        "  for c in range(r,len(row_index)):\n",
        "    if AA[c][r] != 0.0:\n",
        "      rows_with_nonzero = c\n",
        "      pivot_number = AA[c][r]\n",
        "      break\n",
        "  print(rows_with_nonzero)\n",
        "  print(pivot_number)\n",
        "  return rows_with_nonzero"
      ],
      "metadata": {
        "id": "oZJgQX_lKaCp"
      },
      "execution_count": null,
      "outputs": []
    },
    {
      "cell_type": "code",
      "source": [
        "import copy\n",
        "def change(inp_list, inp1, inp2): #열바꾸는거\n",
        "  tmp = copy.deepcopy(inp_list[inp1])\n",
        "  inp_list[inp1] = inp_list[inp2]\n",
        "  inp_list[inp2] = tmp\n",
        "  result = inp_list\n",
        "  return inp_list"
      ],
      "metadata": {
        "id": "LjtKsDdTKfIy"
      },
      "execution_count": null,
      "outputs": []
    },
    {
      "cell_type": "code",
      "source": [
        "a = change(a, 0, 1)\n",
        "b = change(b, 0, 1)\n",
        "check(a, b)"
      ],
      "metadata": {
        "id": "Qn1x-lJmLVII"
      },
      "execution_count": null,
      "outputs": []
    },
    {
      "cell_type": "code",
      "source": [
        "a[0] = a[0] / 3\n",
        "b[0] = b[0] / 3\n",
        "check(a, b)"
      ],
      "metadata": {
        "id": "vJBQBI5pOKlg"
      },
      "execution_count": null,
      "outputs": []
    },
    {
      "cell_type": "code",
      "source": [
        "a[1] = a[1] - (a[2] * 4)\n",
        "b[1] = b[1] - (b[2] * 4)\n",
        "check(a, b)"
      ],
      "metadata": {
        "id": "azqSVklsOOlJ"
      },
      "execution_count": null,
      "outputs": []
    },
    {
      "cell_type": "code",
      "source": [
        "a[1] = a[1] / -4\n",
        "b[1] = b[1] / -4\n",
        "check(a, b)"
      ],
      "metadata": {
        "id": "BD9Yk5acOYBP"
      },
      "execution_count": null,
      "outputs": []
    },
    {
      "cell_type": "code",
      "source": [
        "a[2] = a[3] + (a[2] * 2)\n",
        "b[2] = b[3] + (b[2] * 2)\n",
        "check(a, b)"
      ],
      "metadata": {
        "id": "kDlU7QwaOkQz"
      },
      "execution_count": null,
      "outputs": []
    },
    {
      "cell_type": "code",
      "source": [
        "a[2] = a[2] / 7\n",
        "b[2] = b[2] / 7\n",
        "check(a, b)"
      ],
      "metadata": {
        "id": "g5S8drT6O9F9"
      },
      "execution_count": null,
      "outputs": []
    },
    {
      "cell_type": "code",
      "source": [],
      "metadata": {
        "id": "p2sR8pK3PGWB"
      },
      "execution_count": null,
      "outputs": []
    }
  ]
}