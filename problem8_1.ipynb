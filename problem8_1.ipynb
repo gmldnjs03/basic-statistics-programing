{
  "nbformat": 4,
  "nbformat_minor": 0,
  "metadata": {
    "colab": {
      "private_outputs": true,
      "provenance": [],
      "authorship_tag": "ABX9TyMvcos/i845+GtT5HlOriMO",
      "include_colab_link": true
    },
    "kernelspec": {
      "name": "python3",
      "display_name": "Python 3"
    },
    "language_info": {
      "name": "python"
    }
  },
  "cells": [
    {
      "cell_type": "markdown",
      "metadata": {
        "id": "view-in-github",
        "colab_type": "text"
      },
      "source": [
        "<a href=\"https://colab.research.google.com/github/gmldnjs03/basic-statistics-programing/blob/main/problem8_1.ipynb\" target=\"_parent\"><img src=\"https://colab.research.google.com/assets/colab-badge.svg\" alt=\"Open In Colab\"/></a>"
      ]
    },
    {
      "cell_type": "code",
      "execution_count": null,
      "metadata": {
        "id": "vF_sc43Jd-vH"
      },
      "outputs": [],
      "source": [
        "import sys"
      ]
    },
    {
      "cell_type": "code",
      "source": [
        "!python --version"
      ],
      "metadata": {
        "id": "sI1sWhJIepMx"
      },
      "execution_count": null,
      "outputs": []
    },
    {
      "cell_type": "code",
      "source": [
        "!wget https://www.python.org/ftp/python/3.9.9/Python-3.9.9.tgz\n",
        "!tar xvfz Python-3.9.9.tgz\n",
        "!Python-3.9.9/configure\n",
        "!make\n",
        "!sudo make install"
      ],
      "metadata": {
        "id": "p1O-qBU8e41p"
      },
      "execution_count": null,
      "outputs": []
    },
    {
      "cell_type": "code",
      "source": [
        "!python --version"
      ],
      "metadata": {
        "id": "dvnvth5OfbyR"
      },
      "execution_count": null,
      "outputs": []
    },
    {
      "cell_type": "code",
      "source": [
        "import math"
      ],
      "metadata": {
        "id": "vDG7fUvtgRZC"
      },
      "execution_count": null,
      "outputs": []
    },
    {
      "cell_type": "code",
      "source": [
        "def permutations_count(n,r):\n",
        "    return math.factorial(n) // math.factorial(n-r)\n",
        "print(permutations_count(4,2))"
      ],
      "metadata": {
        "id": "0NW7bKf5gC5K"
      },
      "execution_count": null,
      "outputs": []
    },
    {
      "cell_type": "code",
      "source": [
        "def combination_count(n,r):\n",
        "    return math.factorial(n) // (math.factorial(n-r)*math.factorial(r))\n",
        "print(combination_count(4,2))"
      ],
      "metadata": {
        "id": "ihJ6uBzegfEY"
      },
      "execution_count": null,
      "outputs": []
    },
    {
      "cell_type": "code",
      "source": [
        "def permutation_with_repetition_count(n,r):\n",
        "    return math.pow(n,r)\n",
        "     \n",
        "print(permutation_with_repetition_count(4,2))"
      ],
      "metadata": {
        "id": "NZXkgEQGhL_p"
      },
      "execution_count": null,
      "outputs": []
    },
    {
      "cell_type": "code",
      "source": [
        "def combination_with_repetition_count(n,r):\n",
        "    a=n+r-1\n",
        "    b=r\n",
        "    return math.factorial(a)//(math.factorial(a-b)*math.factorial(b))\n",
        "    \n",
        "print(combination_with_repetition_count(4,2))"
      ],
      "metadata": {
        "id": "24IKFCU4h78S"
      },
      "execution_count": null,
      "outputs": []
    },
    {
      "cell_type": "code",
      "source": [
        "from itertools import permutations"
      ],
      "metadata": {
        "id": "bbtU7X2HiylS"
      },
      "execution_count": null,
      "outputs": []
    },
    {
      "cell_type": "code",
      "source": [
        "arr=[0,1,2,3,4,5]\n",
        "\n",
        "print(list(permutations(arr,3)))"
      ],
      "metadata": {
        "id": "M6Vw_oOpkL1y"
      },
      "execution_count": null,
      "outputs": []
    },
    {
      "cell_type": "code",
      "source": [
        "arr=[1,2,3]\n",
        "\n",
        "print(list(permutations(arr,2)))"
      ],
      "metadata": {
        "id": "anoU5F17keqB"
      },
      "execution_count": null,
      "outputs": []
    },
    {
      "cell_type": "code",
      "source": [
        "def gen_permutations(arr,n):\n",
        "    result=[]\n",
        "    if n == 0:\n",
        "        return[[]]\n",
        "    for i, elem in enumerate(arr):\n",
        "        for P in gen_permutations(arr[:i]+arr[i+1:],n-1):\n",
        "            print(i,P)\n",
        "            result += [[elem]+P]\n",
        "    return result\n",
        "\n"
      ],
      "metadata": {
        "id": "R-gjbX9zktyM"
      },
      "execution_count": null,
      "outputs": []
    },
    {
      "cell_type": "code",
      "source": [
        "def gen_permutations(arr,n):\n",
        "    result=[]\n",
        "    if n == 0:\n",
        "        return[[]]\n",
        "    for i, elem in enumerate(arr):\n",
        "        \n",
        "            print(i,elem)\n",
        "            print(arr[:i]+arr[i+1:])\n",
        "            for P in gen_permutations(arr[:i]+arr[i+1:],n-1):\n",
        "                 print(P)\n",
        "                 result += [[elem]+P]\n",
        "            print(\"_____________________________\")\n",
        "\n",
        "    return result\n",
        "arr=[3,4,5]\n",
        "print(gen_permutations(arr,2))"
      ],
      "metadata": {
        "id": "S5Lq3RfKn4ZU"
      },
      "execution_count": null,
      "outputs": []
    },
    {
      "cell_type": "code",
      "source": [
        "for i, letter in enumerate(['A','B','C'], start=1):\n",
        "    print(i, letter)"
      ],
      "metadata": {
        "id": "vq38jsjrmCYq"
      },
      "execution_count": null,
      "outputs": []
    },
    {
      "cell_type": "code",
      "source": [
        "arr=[1,2,3]\n",
        "\n",
        "print(gen_permutations(arr,2))\n",
        "print(len(gen_permutations(arr,2)))"
      ],
      "metadata": {
        "id": "Ak9sNUvMl_UC"
      },
      "execution_count": null,
      "outputs": []
    },
    {
      "cell_type": "code",
      "source": [
        "def hello(count):\n",
        "    if count == 0:\n",
        "        return\n",
        "    print(\"hello. world!\",count)\n",
        "    count -= 1\n",
        "    hello(count)\n",
        "\n",
        "hello(5)"
      ],
      "metadata": {
        "id": "m6HDd_Iar06k"
      },
      "execution_count": null,
      "outputs": []
    }
  ]
}