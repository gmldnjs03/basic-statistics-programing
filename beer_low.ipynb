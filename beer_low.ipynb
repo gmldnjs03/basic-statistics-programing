{
  "nbformat": 4,
  "nbformat_minor": 0,
  "metadata": {
    "colab": {
      "private_outputs": true,
      "provenance": [],
      "authorship_tag": "ABX9TyNpsstY6Imbsg707Xx/rEOK",
      "include_colab_link": true
    },
    "kernelspec": {
      "name": "python3",
      "display_name": "Python 3"
    },
    "language_info": {
      "name": "python"
    }
  },
  "cells": [
    {
      "cell_type": "markdown",
      "metadata": {
        "id": "view-in-github",
        "colab_type": "text"
      },
      "source": [
        "<a href=\"https://colab.research.google.com/github/gmldnjs03/basic-statistics-programing/blob/main/beer_low.ipynb\" target=\"_parent\"><img src=\"https://colab.research.google.com/assets/colab-badge.svg\" alt=\"Open In Colab\"/></a>"
      ]
    },
    {
      "cell_type": "code",
      "execution_count": null,
      "metadata": {
        "id": "Aeb2aVw4GodW"
      },
      "outputs": [],
      "source": [
        "import pandas as pd\n",
        "import numpy as np\n",
        "import matplotlib.pyplot as plt"
      ]
    },
    {
      "cell_type": "code",
      "source": [
        "data = pd.read_csv(\"https://raw.githubusercontent.com/jamesrobertlloyd/gp-structure-search/master/data/raw/TSDL/monthly-beer-production-in-austr.csv\",sep=',' )"
      ],
      "metadata": {
        "id": "CZvh3nErG18T"
      },
      "execution_count": null,
      "outputs": []
    },
    {
      "cell_type": "code",
      "source": [
        "data.columns"
      ],
      "metadata": {
        "id": "H4hVAXEBHT5j"
      },
      "execution_count": null,
      "outputs": []
    },
    {
      "cell_type": "code",
      "source": [
        "data.rename(columns = {'Monthly beer production in Australia: megalitres. Includes ale and stout. Does not include beverages with alcohol percentage less than 1.15. Jan 1956 ? Aug 1995':'beer'}, inplace =True)"
      ],
      "metadata": {
        "id": "H9OzTR_MHOsA"
      },
      "execution_count": null,
      "outputs": []
    },
    {
      "cell_type": "code",
      "source": [
        "data1 = data['beer']"
      ],
      "metadata": {
        "id": "xIDJgeDXJ8Q9"
      },
      "execution_count": null,
      "outputs": []
    },
    {
      "cell_type": "code",
      "source": [
        "def get_beer(i):\n",
        "    z = data['beer'][i] \n",
        "    return z"
      ],
      "metadata": {
        "id": "Xul25__eHm0E"
      },
      "execution_count": null,
      "outputs": []
    },
    {
      "cell_type": "code",
      "source": [
        "def low_pass_filter(x_meas,x_esti,m_alpha):\n",
        "    x_esti=alpha*x_esti+(1-alpha)*x_meas\n",
        "    return x_esti"
      ],
      "metadata": {
        "id": "DDoZqRWjHxr9"
      },
      "execution_count": null,
      "outputs": []
    },
    {
      "cell_type": "code",
      "source": [
        "def avg_filter(k, x_avg_k_1, x_measure):\n",
        "    alpha =  (k - 1)/k \n",
        "    x_avg = alpha * x_avg_k_1 + (1 - alpha) * x_measure\n",
        "    return x_avg"
      ],
      "metadata": {
        "id": "bb9OA32WMfc6"
      },
      "execution_count": null,
      "outputs": []
    },
    {
      "cell_type": "code",
      "source": [
        "len(data)"
      ],
      "metadata": {
        "id": "eDbddYksH6BW"
      },
      "execution_count": null,
      "outputs": []
    },
    {
      "cell_type": "code",
      "source": [
        "alpha=0.7\n",
        "n_samples=477\n",
        "time_end=10"
      ],
      "metadata": {
        "id": "e4-mJwGJH-2q"
      },
      "execution_count": null,
      "outputs": []
    },
    {
      "cell_type": "code",
      "source": [
        "dt = time_end / n_samples\n",
        "time = np.arange(0, time_end,dt)\n",
        "x_meas_save = np.zeros(n_samples)\n",
        "x_esti_save = np.zeros(n_samples)\n",
        "x_avg_save = np.zeros(n_samples)"
      ],
      "metadata": {
        "id": "puYaIxHmIGSN"
      },
      "execution_count": null,
      "outputs": []
    },
    {
      "cell_type": "code",
      "source": [
        "x_esti = None\n",
        "x_avg = 0\n",
        "for i in range(n_samples):\n",
        "    x_meas = data1[i]\n",
        "    k = i + 1\n",
        "    x_avg_k = avg_filter(k,x_meas, x_avg)\n",
        "    if i == 0:\n",
        "        x_esti = x_meas\n",
        "    else:\n",
        "        x_esti = low_pass_filter(x_meas, x_esti,alpha)\n",
        "\n",
        "    x_meas_save[i] = x_meas\n",
        "    x_esti_save[i] = x_esti\n",
        "    x_avg_save[i] = x_avg"
      ],
      "metadata": {
        "id": "coz27KXAILXt"
      },
      "execution_count": null,
      "outputs": []
    },
    {
      "cell_type": "code",
      "source": [
        "plt.plot(time, x_meas_save, 'r*', label='Measured')\n",
        "plt.plot(time, x_esti_save, 'b-', label='Low-pass Filter')\n",
        "\n",
        "plt.legend(loc='upper left')\n",
        "plt.title('beer')\n",
        "plt.xlabel('')\n",
        "plt.ylabel('')\n",
        "plt.savefig('low_pass_filter.png')"
      ],
      "metadata": {
        "id": "oWQydzOBIfgm"
      },
      "execution_count": null,
      "outputs": []
    }
  ]
}